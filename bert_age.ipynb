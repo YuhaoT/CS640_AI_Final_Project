{
  "nbformat": 4,
  "nbformat_minor": 5,
  "metadata": {
    "accelerator": "GPU",
    "colab": {
      "name": "bert_age.ipynb",
      "provenance": [],
      "collapsed_sections": [],
      "machine_shape": "hm"
    },
    "kernelspec": {
      "display_name": "Python 3 (ipykernel)",
      "language": "python",
      "name": "python3"
    },
    "language_info": {
      "codemirror_mode": {
        "name": "ipython",
        "version": 3
      },
      "file_extension": ".py",
      "mimetype": "text/x-python",
      "name": "python",
      "nbconvert_exporter": "python",
      "pygments_lexer": "ipython3",
      "version": "3.7.6"
    },
    "widgets": {
      "application/vnd.jupyter.widget-state+json": {
        "3ce0ef7dcb1d43febccb52c0271da4c1": {
          "model_module": "@jupyter-widgets/controls",
          "model_name": "HBoxModel",
          "model_module_version": "1.5.0",
          "state": {
            "_view_name": "HBoxView",
            "_dom_classes": [],
            "_model_name": "HBoxModel",
            "_view_module": "@jupyter-widgets/controls",
            "_model_module_version": "1.5.0",
            "_view_count": null,
            "_view_module_version": "1.5.0",
            "box_style": "",
            "layout": "IPY_MODEL_3129d78cd674452da5e0810654f7d20e",
            "_model_module": "@jupyter-widgets/controls",
            "children": [
              "IPY_MODEL_71e1213dce9d4873b1ed105731c6fac7",
              "IPY_MODEL_bc8d1c82cf4d4fd5b215c4ffb7cd56a4",
              "IPY_MODEL_7d0afbfc91c940a18dbcd6f38fef679f"
            ]
          }
        },
        "3129d78cd674452da5e0810654f7d20e": {
          "model_module": "@jupyter-widgets/base",
          "model_name": "LayoutModel",
          "model_module_version": "1.2.0",
          "state": {
            "_view_name": "LayoutView",
            "grid_template_rows": null,
            "right": null,
            "justify_content": null,
            "_view_module": "@jupyter-widgets/base",
            "overflow": null,
            "_model_module_version": "1.2.0",
            "_view_count": null,
            "flex_flow": null,
            "width": null,
            "min_width": null,
            "border": null,
            "align_items": null,
            "bottom": null,
            "_model_module": "@jupyter-widgets/base",
            "top": null,
            "grid_column": null,
            "overflow_y": null,
            "overflow_x": null,
            "grid_auto_flow": null,
            "grid_area": null,
            "grid_template_columns": null,
            "flex": null,
            "_model_name": "LayoutModel",
            "justify_items": null,
            "grid_row": null,
            "max_height": null,
            "align_content": null,
            "visibility": null,
            "align_self": null,
            "height": null,
            "min_height": null,
            "padding": null,
            "grid_auto_rows": null,
            "grid_gap": null,
            "max_width": null,
            "order": null,
            "_view_module_version": "1.2.0",
            "grid_template_areas": null,
            "object_position": null,
            "object_fit": null,
            "grid_auto_columns": null,
            "margin": null,
            "display": null,
            "left": null
          }
        },
        "71e1213dce9d4873b1ed105731c6fac7": {
          "model_module": "@jupyter-widgets/controls",
          "model_name": "HTMLModel",
          "model_module_version": "1.5.0",
          "state": {
            "_view_name": "HTMLView",
            "style": "IPY_MODEL_b656ef1b31244e3c89b024c067037c19",
            "_dom_classes": [],
            "description": "",
            "_model_name": "HTMLModel",
            "placeholder": "​",
            "_view_module": "@jupyter-widgets/controls",
            "_model_module_version": "1.5.0",
            "value": "Downloading: 100%",
            "_view_count": null,
            "_view_module_version": "1.5.0",
            "description_tooltip": null,
            "_model_module": "@jupyter-widgets/controls",
            "layout": "IPY_MODEL_8da3dc2eaae9479489eaa28ba985bcff"
          }
        },
        "bc8d1c82cf4d4fd5b215c4ffb7cd56a4": {
          "model_module": "@jupyter-widgets/controls",
          "model_name": "FloatProgressModel",
          "model_module_version": "1.5.0",
          "state": {
            "_view_name": "ProgressView",
            "style": "IPY_MODEL_b32b3e2a440b4a3e98296c6099b83cb8",
            "_dom_classes": [],
            "description": "",
            "_model_name": "FloatProgressModel",
            "bar_style": "success",
            "max": 570,
            "_view_module": "@jupyter-widgets/controls",
            "_model_module_version": "1.5.0",
            "value": 570,
            "_view_count": null,
            "_view_module_version": "1.5.0",
            "orientation": "horizontal",
            "min": 0,
            "description_tooltip": null,
            "_model_module": "@jupyter-widgets/controls",
            "layout": "IPY_MODEL_fa9fb7561c8a481b9d49c03ed1a2b1ce"
          }
        },
        "7d0afbfc91c940a18dbcd6f38fef679f": {
          "model_module": "@jupyter-widgets/controls",
          "model_name": "HTMLModel",
          "model_module_version": "1.5.0",
          "state": {
            "_view_name": "HTMLView",
            "style": "IPY_MODEL_658e9512fbf34b6d8b31ba5c4b63eb6f",
            "_dom_classes": [],
            "description": "",
            "_model_name": "HTMLModel",
            "placeholder": "​",
            "_view_module": "@jupyter-widgets/controls",
            "_model_module_version": "1.5.0",
            "value": " 570/570 [00:00&lt;00:00, 23.9kB/s]",
            "_view_count": null,
            "_view_module_version": "1.5.0",
            "description_tooltip": null,
            "_model_module": "@jupyter-widgets/controls",
            "layout": "IPY_MODEL_749387dd765a4b42a6df67c96870d2fe"
          }
        },
        "b656ef1b31244e3c89b024c067037c19": {
          "model_module": "@jupyter-widgets/controls",
          "model_name": "DescriptionStyleModel",
          "model_module_version": "1.5.0",
          "state": {
            "_view_name": "StyleView",
            "_model_name": "DescriptionStyleModel",
            "description_width": "",
            "_view_module": "@jupyter-widgets/base",
            "_model_module_version": "1.5.0",
            "_view_count": null,
            "_view_module_version": "1.2.0",
            "_model_module": "@jupyter-widgets/controls"
          }
        },
        "8da3dc2eaae9479489eaa28ba985bcff": {
          "model_module": "@jupyter-widgets/base",
          "model_name": "LayoutModel",
          "model_module_version": "1.2.0",
          "state": {
            "_view_name": "LayoutView",
            "grid_template_rows": null,
            "right": null,
            "justify_content": null,
            "_view_module": "@jupyter-widgets/base",
            "overflow": null,
            "_model_module_version": "1.2.0",
            "_view_count": null,
            "flex_flow": null,
            "width": null,
            "min_width": null,
            "border": null,
            "align_items": null,
            "bottom": null,
            "_model_module": "@jupyter-widgets/base",
            "top": null,
            "grid_column": null,
            "overflow_y": null,
            "overflow_x": null,
            "grid_auto_flow": null,
            "grid_area": null,
            "grid_template_columns": null,
            "flex": null,
            "_model_name": "LayoutModel",
            "justify_items": null,
            "grid_row": null,
            "max_height": null,
            "align_content": null,
            "visibility": null,
            "align_self": null,
            "height": null,
            "min_height": null,
            "padding": null,
            "grid_auto_rows": null,
            "grid_gap": null,
            "max_width": null,
            "order": null,
            "_view_module_version": "1.2.0",
            "grid_template_areas": null,
            "object_position": null,
            "object_fit": null,
            "grid_auto_columns": null,
            "margin": null,
            "display": null,
            "left": null
          }
        },
        "b32b3e2a440b4a3e98296c6099b83cb8": {
          "model_module": "@jupyter-widgets/controls",
          "model_name": "ProgressStyleModel",
          "model_module_version": "1.5.0",
          "state": {
            "_view_name": "StyleView",
            "_model_name": "ProgressStyleModel",
            "description_width": "",
            "_view_module": "@jupyter-widgets/base",
            "_model_module_version": "1.5.0",
            "_view_count": null,
            "_view_module_version": "1.2.0",
            "bar_color": null,
            "_model_module": "@jupyter-widgets/controls"
          }
        },
        "fa9fb7561c8a481b9d49c03ed1a2b1ce": {
          "model_module": "@jupyter-widgets/base",
          "model_name": "LayoutModel",
          "model_module_version": "1.2.0",
          "state": {
            "_view_name": "LayoutView",
            "grid_template_rows": null,
            "right": null,
            "justify_content": null,
            "_view_module": "@jupyter-widgets/base",
            "overflow": null,
            "_model_module_version": "1.2.0",
            "_view_count": null,
            "flex_flow": null,
            "width": null,
            "min_width": null,
            "border": null,
            "align_items": null,
            "bottom": null,
            "_model_module": "@jupyter-widgets/base",
            "top": null,
            "grid_column": null,
            "overflow_y": null,
            "overflow_x": null,
            "grid_auto_flow": null,
            "grid_area": null,
            "grid_template_columns": null,
            "flex": null,
            "_model_name": "LayoutModel",
            "justify_items": null,
            "grid_row": null,
            "max_height": null,
            "align_content": null,
            "visibility": null,
            "align_self": null,
            "height": null,
            "min_height": null,
            "padding": null,
            "grid_auto_rows": null,
            "grid_gap": null,
            "max_width": null,
            "order": null,
            "_view_module_version": "1.2.0",
            "grid_template_areas": null,
            "object_position": null,
            "object_fit": null,
            "grid_auto_columns": null,
            "margin": null,
            "display": null,
            "left": null
          }
        },
        "658e9512fbf34b6d8b31ba5c4b63eb6f": {
          "model_module": "@jupyter-widgets/controls",
          "model_name": "DescriptionStyleModel",
          "model_module_version": "1.5.0",
          "state": {
            "_view_name": "StyleView",
            "_model_name": "DescriptionStyleModel",
            "description_width": "",
            "_view_module": "@jupyter-widgets/base",
            "_model_module_version": "1.5.0",
            "_view_count": null,
            "_view_module_version": "1.2.0",
            "_model_module": "@jupyter-widgets/controls"
          }
        },
        "749387dd765a4b42a6df67c96870d2fe": {
          "model_module": "@jupyter-widgets/base",
          "model_name": "LayoutModel",
          "model_module_version": "1.2.0",
          "state": {
            "_view_name": "LayoutView",
            "grid_template_rows": null,
            "right": null,
            "justify_content": null,
            "_view_module": "@jupyter-widgets/base",
            "overflow": null,
            "_model_module_version": "1.2.0",
            "_view_count": null,
            "flex_flow": null,
            "width": null,
            "min_width": null,
            "border": null,
            "align_items": null,
            "bottom": null,
            "_model_module": "@jupyter-widgets/base",
            "top": null,
            "grid_column": null,
            "overflow_y": null,
            "overflow_x": null,
            "grid_auto_flow": null,
            "grid_area": null,
            "grid_template_columns": null,
            "flex": null,
            "_model_name": "LayoutModel",
            "justify_items": null,
            "grid_row": null,
            "max_height": null,
            "align_content": null,
            "visibility": null,
            "align_self": null,
            "height": null,
            "min_height": null,
            "padding": null,
            "grid_auto_rows": null,
            "grid_gap": null,
            "max_width": null,
            "order": null,
            "_view_module_version": "1.2.0",
            "grid_template_areas": null,
            "object_position": null,
            "object_fit": null,
            "grid_auto_columns": null,
            "margin": null,
            "display": null,
            "left": null
          }
        },
        "f61bcc7847194780a67fcb3fa589ec68": {
          "model_module": "@jupyter-widgets/controls",
          "model_name": "HBoxModel",
          "model_module_version": "1.5.0",
          "state": {
            "_view_name": "HBoxView",
            "_dom_classes": [],
            "_model_name": "HBoxModel",
            "_view_module": "@jupyter-widgets/controls",
            "_model_module_version": "1.5.0",
            "_view_count": null,
            "_view_module_version": "1.5.0",
            "box_style": "",
            "layout": "IPY_MODEL_66b46fbb81294ee6b54be08c0ce8b511",
            "_model_module": "@jupyter-widgets/controls",
            "children": [
              "IPY_MODEL_d8b8c518ceda438cbc2324a326f80db2",
              "IPY_MODEL_f1b7e35e54964e5eb9af6d201627d601",
              "IPY_MODEL_08ce444b1d9242429894adb03aa7c9ea"
            ]
          }
        },
        "66b46fbb81294ee6b54be08c0ce8b511": {
          "model_module": "@jupyter-widgets/base",
          "model_name": "LayoutModel",
          "model_module_version": "1.2.0",
          "state": {
            "_view_name": "LayoutView",
            "grid_template_rows": null,
            "right": null,
            "justify_content": null,
            "_view_module": "@jupyter-widgets/base",
            "overflow": null,
            "_model_module_version": "1.2.0",
            "_view_count": null,
            "flex_flow": null,
            "width": null,
            "min_width": null,
            "border": null,
            "align_items": null,
            "bottom": null,
            "_model_module": "@jupyter-widgets/base",
            "top": null,
            "grid_column": null,
            "overflow_y": null,
            "overflow_x": null,
            "grid_auto_flow": null,
            "grid_area": null,
            "grid_template_columns": null,
            "flex": null,
            "_model_name": "LayoutModel",
            "justify_items": null,
            "grid_row": null,
            "max_height": null,
            "align_content": null,
            "visibility": null,
            "align_self": null,
            "height": null,
            "min_height": null,
            "padding": null,
            "grid_auto_rows": null,
            "grid_gap": null,
            "max_width": null,
            "order": null,
            "_view_module_version": "1.2.0",
            "grid_template_areas": null,
            "object_position": null,
            "object_fit": null,
            "grid_auto_columns": null,
            "margin": null,
            "display": null,
            "left": null
          }
        },
        "d8b8c518ceda438cbc2324a326f80db2": {
          "model_module": "@jupyter-widgets/controls",
          "model_name": "HTMLModel",
          "model_module_version": "1.5.0",
          "state": {
            "_view_name": "HTMLView",
            "style": "IPY_MODEL_9e87579e56ea431984c318939b99a5a4",
            "_dom_classes": [],
            "description": "",
            "_model_name": "HTMLModel",
            "placeholder": "​",
            "_view_module": "@jupyter-widgets/controls",
            "_model_module_version": "1.5.0",
            "value": "Downloading: 100%",
            "_view_count": null,
            "_view_module_version": "1.5.0",
            "description_tooltip": null,
            "_model_module": "@jupyter-widgets/controls",
            "layout": "IPY_MODEL_411c18a493b1442190e9036d9e0db4dd"
          }
        },
        "f1b7e35e54964e5eb9af6d201627d601": {
          "model_module": "@jupyter-widgets/controls",
          "model_name": "FloatProgressModel",
          "model_module_version": "1.5.0",
          "state": {
            "_view_name": "ProgressView",
            "style": "IPY_MODEL_588ef4f5eaaa42e3bf07fbb4b1d80ece",
            "_dom_classes": [],
            "description": "",
            "_model_name": "FloatProgressModel",
            "bar_style": "success",
            "max": 435779157,
            "_view_module": "@jupyter-widgets/controls",
            "_model_module_version": "1.5.0",
            "value": 435779157,
            "_view_count": null,
            "_view_module_version": "1.5.0",
            "orientation": "horizontal",
            "min": 0,
            "description_tooltip": null,
            "_model_module": "@jupyter-widgets/controls",
            "layout": "IPY_MODEL_e85828bc74554b1d8bc1dda586084e0e"
          }
        },
        "08ce444b1d9242429894adb03aa7c9ea": {
          "model_module": "@jupyter-widgets/controls",
          "model_name": "HTMLModel",
          "model_module_version": "1.5.0",
          "state": {
            "_view_name": "HTMLView",
            "style": "IPY_MODEL_3515ba5a9fe346c9ba7040fc4a0728c2",
            "_dom_classes": [],
            "description": "",
            "_model_name": "HTMLModel",
            "placeholder": "​",
            "_view_module": "@jupyter-widgets/controls",
            "_model_module_version": "1.5.0",
            "value": " 416M/416M [00:07&lt;00:00, 60.7MB/s]",
            "_view_count": null,
            "_view_module_version": "1.5.0",
            "description_tooltip": null,
            "_model_module": "@jupyter-widgets/controls",
            "layout": "IPY_MODEL_21f9808487b346b3a1c22e1cf0d9fd82"
          }
        },
        "9e87579e56ea431984c318939b99a5a4": {
          "model_module": "@jupyter-widgets/controls",
          "model_name": "DescriptionStyleModel",
          "model_module_version": "1.5.0",
          "state": {
            "_view_name": "StyleView",
            "_model_name": "DescriptionStyleModel",
            "description_width": "",
            "_view_module": "@jupyter-widgets/base",
            "_model_module_version": "1.5.0",
            "_view_count": null,
            "_view_module_version": "1.2.0",
            "_model_module": "@jupyter-widgets/controls"
          }
        },
        "411c18a493b1442190e9036d9e0db4dd": {
          "model_module": "@jupyter-widgets/base",
          "model_name": "LayoutModel",
          "model_module_version": "1.2.0",
          "state": {
            "_view_name": "LayoutView",
            "grid_template_rows": null,
            "right": null,
            "justify_content": null,
            "_view_module": "@jupyter-widgets/base",
            "overflow": null,
            "_model_module_version": "1.2.0",
            "_view_count": null,
            "flex_flow": null,
            "width": null,
            "min_width": null,
            "border": null,
            "align_items": null,
            "bottom": null,
            "_model_module": "@jupyter-widgets/base",
            "top": null,
            "grid_column": null,
            "overflow_y": null,
            "overflow_x": null,
            "grid_auto_flow": null,
            "grid_area": null,
            "grid_template_columns": null,
            "flex": null,
            "_model_name": "LayoutModel",
            "justify_items": null,
            "grid_row": null,
            "max_height": null,
            "align_content": null,
            "visibility": null,
            "align_self": null,
            "height": null,
            "min_height": null,
            "padding": null,
            "grid_auto_rows": null,
            "grid_gap": null,
            "max_width": null,
            "order": null,
            "_view_module_version": "1.2.0",
            "grid_template_areas": null,
            "object_position": null,
            "object_fit": null,
            "grid_auto_columns": null,
            "margin": null,
            "display": null,
            "left": null
          }
        },
        "588ef4f5eaaa42e3bf07fbb4b1d80ece": {
          "model_module": "@jupyter-widgets/controls",
          "model_name": "ProgressStyleModel",
          "model_module_version": "1.5.0",
          "state": {
            "_view_name": "StyleView",
            "_model_name": "ProgressStyleModel",
            "description_width": "",
            "_view_module": "@jupyter-widgets/base",
            "_model_module_version": "1.5.0",
            "_view_count": null,
            "_view_module_version": "1.2.0",
            "bar_color": null,
            "_model_module": "@jupyter-widgets/controls"
          }
        },
        "e85828bc74554b1d8bc1dda586084e0e": {
          "model_module": "@jupyter-widgets/base",
          "model_name": "LayoutModel",
          "model_module_version": "1.2.0",
          "state": {
            "_view_name": "LayoutView",
            "grid_template_rows": null,
            "right": null,
            "justify_content": null,
            "_view_module": "@jupyter-widgets/base",
            "overflow": null,
            "_model_module_version": "1.2.0",
            "_view_count": null,
            "flex_flow": null,
            "width": null,
            "min_width": null,
            "border": null,
            "align_items": null,
            "bottom": null,
            "_model_module": "@jupyter-widgets/base",
            "top": null,
            "grid_column": null,
            "overflow_y": null,
            "overflow_x": null,
            "grid_auto_flow": null,
            "grid_area": null,
            "grid_template_columns": null,
            "flex": null,
            "_model_name": "LayoutModel",
            "justify_items": null,
            "grid_row": null,
            "max_height": null,
            "align_content": null,
            "visibility": null,
            "align_self": null,
            "height": null,
            "min_height": null,
            "padding": null,
            "grid_auto_rows": null,
            "grid_gap": null,
            "max_width": null,
            "order": null,
            "_view_module_version": "1.2.0",
            "grid_template_areas": null,
            "object_position": null,
            "object_fit": null,
            "grid_auto_columns": null,
            "margin": null,
            "display": null,
            "left": null
          }
        },
        "3515ba5a9fe346c9ba7040fc4a0728c2": {
          "model_module": "@jupyter-widgets/controls",
          "model_name": "DescriptionStyleModel",
          "model_module_version": "1.5.0",
          "state": {
            "_view_name": "StyleView",
            "_model_name": "DescriptionStyleModel",
            "description_width": "",
            "_view_module": "@jupyter-widgets/base",
            "_model_module_version": "1.5.0",
            "_view_count": null,
            "_view_module_version": "1.2.0",
            "_model_module": "@jupyter-widgets/controls"
          }
        },
        "21f9808487b346b3a1c22e1cf0d9fd82": {
          "model_module": "@jupyter-widgets/base",
          "model_name": "LayoutModel",
          "model_module_version": "1.2.0",
          "state": {
            "_view_name": "LayoutView",
            "grid_template_rows": null,
            "right": null,
            "justify_content": null,
            "_view_module": "@jupyter-widgets/base",
            "overflow": null,
            "_model_module_version": "1.2.0",
            "_view_count": null,
            "flex_flow": null,
            "width": null,
            "min_width": null,
            "border": null,
            "align_items": null,
            "bottom": null,
            "_model_module": "@jupyter-widgets/base",
            "top": null,
            "grid_column": null,
            "overflow_y": null,
            "overflow_x": null,
            "grid_auto_flow": null,
            "grid_area": null,
            "grid_template_columns": null,
            "flex": null,
            "_model_name": "LayoutModel",
            "justify_items": null,
            "grid_row": null,
            "max_height": null,
            "align_content": null,
            "visibility": null,
            "align_self": null,
            "height": null,
            "min_height": null,
            "padding": null,
            "grid_auto_rows": null,
            "grid_gap": null,
            "max_width": null,
            "order": null,
            "_view_module_version": "1.2.0",
            "grid_template_areas": null,
            "object_position": null,
            "object_fit": null,
            "grid_auto_columns": null,
            "margin": null,
            "display": null,
            "left": null
          }
        },
        "bbb5d4dc6082432184122997bb10a823": {
          "model_module": "@jupyter-widgets/controls",
          "model_name": "HBoxModel",
          "model_module_version": "1.5.0",
          "state": {
            "_view_name": "HBoxView",
            "_dom_classes": [],
            "_model_name": "HBoxModel",
            "_view_module": "@jupyter-widgets/controls",
            "_model_module_version": "1.5.0",
            "_view_count": null,
            "_view_module_version": "1.5.0",
            "box_style": "",
            "layout": "IPY_MODEL_685a33d98e8e4a2099aa1f07090aad5f",
            "_model_module": "@jupyter-widgets/controls",
            "children": [
              "IPY_MODEL_172638c7936e43c8bfd6adb0b20eb72c",
              "IPY_MODEL_40241b3e98cd43d3bba313d60960d180",
              "IPY_MODEL_63bca4e0ea0840b7b1937f7a4b35f119"
            ]
          }
        },
        "685a33d98e8e4a2099aa1f07090aad5f": {
          "model_module": "@jupyter-widgets/base",
          "model_name": "LayoutModel",
          "model_module_version": "1.2.0",
          "state": {
            "_view_name": "LayoutView",
            "grid_template_rows": null,
            "right": null,
            "justify_content": null,
            "_view_module": "@jupyter-widgets/base",
            "overflow": null,
            "_model_module_version": "1.2.0",
            "_view_count": null,
            "flex_flow": null,
            "width": null,
            "min_width": null,
            "border": null,
            "align_items": null,
            "bottom": null,
            "_model_module": "@jupyter-widgets/base",
            "top": null,
            "grid_column": null,
            "overflow_y": null,
            "overflow_x": null,
            "grid_auto_flow": null,
            "grid_area": null,
            "grid_template_columns": null,
            "flex": null,
            "_model_name": "LayoutModel",
            "justify_items": null,
            "grid_row": null,
            "max_height": null,
            "align_content": null,
            "visibility": null,
            "align_self": null,
            "height": null,
            "min_height": null,
            "padding": null,
            "grid_auto_rows": null,
            "grid_gap": null,
            "max_width": null,
            "order": null,
            "_view_module_version": "1.2.0",
            "grid_template_areas": null,
            "object_position": null,
            "object_fit": null,
            "grid_auto_columns": null,
            "margin": null,
            "display": null,
            "left": null
          }
        },
        "172638c7936e43c8bfd6adb0b20eb72c": {
          "model_module": "@jupyter-widgets/controls",
          "model_name": "HTMLModel",
          "model_module_version": "1.5.0",
          "state": {
            "_view_name": "HTMLView",
            "style": "IPY_MODEL_f7e7c59a657f4d29bb802f2bf604d141",
            "_dom_classes": [],
            "description": "",
            "_model_name": "HTMLModel",
            "placeholder": "​",
            "_view_module": "@jupyter-widgets/controls",
            "_model_module_version": "1.5.0",
            "value": "Downloading: 100%",
            "_view_count": null,
            "_view_module_version": "1.5.0",
            "description_tooltip": null,
            "_model_module": "@jupyter-widgets/controls",
            "layout": "IPY_MODEL_dd1ef2c27fae42dba4808828baa0a2b2"
          }
        },
        "40241b3e98cd43d3bba313d60960d180": {
          "model_module": "@jupyter-widgets/controls",
          "model_name": "FloatProgressModel",
          "model_module_version": "1.5.0",
          "state": {
            "_view_name": "ProgressView",
            "style": "IPY_MODEL_45ed8429453b4b389bb870773c97c16c",
            "_dom_classes": [],
            "description": "",
            "_model_name": "FloatProgressModel",
            "bar_style": "success",
            "max": 213450,
            "_view_module": "@jupyter-widgets/controls",
            "_model_module_version": "1.5.0",
            "value": 213450,
            "_view_count": null,
            "_view_module_version": "1.5.0",
            "orientation": "horizontal",
            "min": 0,
            "description_tooltip": null,
            "_model_module": "@jupyter-widgets/controls",
            "layout": "IPY_MODEL_6860be2c984d43f4b7c0b8125f4e6ee7"
          }
        },
        "63bca4e0ea0840b7b1937f7a4b35f119": {
          "model_module": "@jupyter-widgets/controls",
          "model_name": "HTMLModel",
          "model_module_version": "1.5.0",
          "state": {
            "_view_name": "HTMLView",
            "style": "IPY_MODEL_243487c39a074815abe7a13aaade9b3d",
            "_dom_classes": [],
            "description": "",
            "_model_name": "HTMLModel",
            "placeholder": "​",
            "_view_module": "@jupyter-widgets/controls",
            "_model_module_version": "1.5.0",
            "value": " 208k/208k [00:00&lt;00:00, 862kB/s]",
            "_view_count": null,
            "_view_module_version": "1.5.0",
            "description_tooltip": null,
            "_model_module": "@jupyter-widgets/controls",
            "layout": "IPY_MODEL_fdcbff0667ff4b528a50abd56be29e43"
          }
        },
        "f7e7c59a657f4d29bb802f2bf604d141": {
          "model_module": "@jupyter-widgets/controls",
          "model_name": "DescriptionStyleModel",
          "model_module_version": "1.5.0",
          "state": {
            "_view_name": "StyleView",
            "_model_name": "DescriptionStyleModel",
            "description_width": "",
            "_view_module": "@jupyter-widgets/base",
            "_model_module_version": "1.5.0",
            "_view_count": null,
            "_view_module_version": "1.2.0",
            "_model_module": "@jupyter-widgets/controls"
          }
        },
        "dd1ef2c27fae42dba4808828baa0a2b2": {
          "model_module": "@jupyter-widgets/base",
          "model_name": "LayoutModel",
          "model_module_version": "1.2.0",
          "state": {
            "_view_name": "LayoutView",
            "grid_template_rows": null,
            "right": null,
            "justify_content": null,
            "_view_module": "@jupyter-widgets/base",
            "overflow": null,
            "_model_module_version": "1.2.0",
            "_view_count": null,
            "flex_flow": null,
            "width": null,
            "min_width": null,
            "border": null,
            "align_items": null,
            "bottom": null,
            "_model_module": "@jupyter-widgets/base",
            "top": null,
            "grid_column": null,
            "overflow_y": null,
            "overflow_x": null,
            "grid_auto_flow": null,
            "grid_area": null,
            "grid_template_columns": null,
            "flex": null,
            "_model_name": "LayoutModel",
            "justify_items": null,
            "grid_row": null,
            "max_height": null,
            "align_content": null,
            "visibility": null,
            "align_self": null,
            "height": null,
            "min_height": null,
            "padding": null,
            "grid_auto_rows": null,
            "grid_gap": null,
            "max_width": null,
            "order": null,
            "_view_module_version": "1.2.0",
            "grid_template_areas": null,
            "object_position": null,
            "object_fit": null,
            "grid_auto_columns": null,
            "margin": null,
            "display": null,
            "left": null
          }
        },
        "45ed8429453b4b389bb870773c97c16c": {
          "model_module": "@jupyter-widgets/controls",
          "model_name": "ProgressStyleModel",
          "model_module_version": "1.5.0",
          "state": {
            "_view_name": "StyleView",
            "_model_name": "ProgressStyleModel",
            "description_width": "",
            "_view_module": "@jupyter-widgets/base",
            "_model_module_version": "1.5.0",
            "_view_count": null,
            "_view_module_version": "1.2.0",
            "bar_color": null,
            "_model_module": "@jupyter-widgets/controls"
          }
        },
        "6860be2c984d43f4b7c0b8125f4e6ee7": {
          "model_module": "@jupyter-widgets/base",
          "model_name": "LayoutModel",
          "model_module_version": "1.2.0",
          "state": {
            "_view_name": "LayoutView",
            "grid_template_rows": null,
            "right": null,
            "justify_content": null,
            "_view_module": "@jupyter-widgets/base",
            "overflow": null,
            "_model_module_version": "1.2.0",
            "_view_count": null,
            "flex_flow": null,
            "width": null,
            "min_width": null,
            "border": null,
            "align_items": null,
            "bottom": null,
            "_model_module": "@jupyter-widgets/base",
            "top": null,
            "grid_column": null,
            "overflow_y": null,
            "overflow_x": null,
            "grid_auto_flow": null,
            "grid_area": null,
            "grid_template_columns": null,
            "flex": null,
            "_model_name": "LayoutModel",
            "justify_items": null,
            "grid_row": null,
            "max_height": null,
            "align_content": null,
            "visibility": null,
            "align_self": null,
            "height": null,
            "min_height": null,
            "padding": null,
            "grid_auto_rows": null,
            "grid_gap": null,
            "max_width": null,
            "order": null,
            "_view_module_version": "1.2.0",
            "grid_template_areas": null,
            "object_position": null,
            "object_fit": null,
            "grid_auto_columns": null,
            "margin": null,
            "display": null,
            "left": null
          }
        },
        "243487c39a074815abe7a13aaade9b3d": {
          "model_module": "@jupyter-widgets/controls",
          "model_name": "DescriptionStyleModel",
          "model_module_version": "1.5.0",
          "state": {
            "_view_name": "StyleView",
            "_model_name": "DescriptionStyleModel",
            "description_width": "",
            "_view_module": "@jupyter-widgets/base",
            "_model_module_version": "1.5.0",
            "_view_count": null,
            "_view_module_version": "1.2.0",
            "_model_module": "@jupyter-widgets/controls"
          }
        },
        "fdcbff0667ff4b528a50abd56be29e43": {
          "model_module": "@jupyter-widgets/base",
          "model_name": "LayoutModel",
          "model_module_version": "1.2.0",
          "state": {
            "_view_name": "LayoutView",
            "grid_template_rows": null,
            "right": null,
            "justify_content": null,
            "_view_module": "@jupyter-widgets/base",
            "overflow": null,
            "_model_module_version": "1.2.0",
            "_view_count": null,
            "flex_flow": null,
            "width": null,
            "min_width": null,
            "border": null,
            "align_items": null,
            "bottom": null,
            "_model_module": "@jupyter-widgets/base",
            "top": null,
            "grid_column": null,
            "overflow_y": null,
            "overflow_x": null,
            "grid_auto_flow": null,
            "grid_area": null,
            "grid_template_columns": null,
            "flex": null,
            "_model_name": "LayoutModel",
            "justify_items": null,
            "grid_row": null,
            "max_height": null,
            "align_content": null,
            "visibility": null,
            "align_self": null,
            "height": null,
            "min_height": null,
            "padding": null,
            "grid_auto_rows": null,
            "grid_gap": null,
            "max_width": null,
            "order": null,
            "_view_module_version": "1.2.0",
            "grid_template_areas": null,
            "object_position": null,
            "object_fit": null,
            "grid_auto_columns": null,
            "margin": null,
            "display": null,
            "left": null
          }
        },
        "82a8b61ac67e43b2a8ec768e6be28577": {
          "model_module": "@jupyter-widgets/controls",
          "model_name": "HBoxModel",
          "model_module_version": "1.5.0",
          "state": {
            "_view_name": "HBoxView",
            "_dom_classes": [],
            "_model_name": "HBoxModel",
            "_view_module": "@jupyter-widgets/controls",
            "_model_module_version": "1.5.0",
            "_view_count": null,
            "_view_module_version": "1.5.0",
            "box_style": "",
            "layout": "IPY_MODEL_041514eb115e42ddb71dde24a27d7ebf",
            "_model_module": "@jupyter-widgets/controls",
            "children": [
              "IPY_MODEL_97c29fdae6b1498892df0fc5d09e0bbf",
              "IPY_MODEL_8f969d60dcab42f6a30c8b5c25f84cd9",
              "IPY_MODEL_696dbad86c144b21a0b07faf5a680003"
            ]
          }
        },
        "041514eb115e42ddb71dde24a27d7ebf": {
          "model_module": "@jupyter-widgets/base",
          "model_name": "LayoutModel",
          "model_module_version": "1.2.0",
          "state": {
            "_view_name": "LayoutView",
            "grid_template_rows": null,
            "right": null,
            "justify_content": null,
            "_view_module": "@jupyter-widgets/base",
            "overflow": null,
            "_model_module_version": "1.2.0",
            "_view_count": null,
            "flex_flow": null,
            "width": null,
            "min_width": null,
            "border": null,
            "align_items": null,
            "bottom": null,
            "_model_module": "@jupyter-widgets/base",
            "top": null,
            "grid_column": null,
            "overflow_y": null,
            "overflow_x": null,
            "grid_auto_flow": null,
            "grid_area": null,
            "grid_template_columns": null,
            "flex": null,
            "_model_name": "LayoutModel",
            "justify_items": null,
            "grid_row": null,
            "max_height": null,
            "align_content": null,
            "visibility": null,
            "align_self": null,
            "height": null,
            "min_height": null,
            "padding": null,
            "grid_auto_rows": null,
            "grid_gap": null,
            "max_width": null,
            "order": null,
            "_view_module_version": "1.2.0",
            "grid_template_areas": null,
            "object_position": null,
            "object_fit": null,
            "grid_auto_columns": null,
            "margin": null,
            "display": null,
            "left": null
          }
        },
        "97c29fdae6b1498892df0fc5d09e0bbf": {
          "model_module": "@jupyter-widgets/controls",
          "model_name": "HTMLModel",
          "model_module_version": "1.5.0",
          "state": {
            "_view_name": "HTMLView",
            "style": "IPY_MODEL_9bbdc86276c64a96a6242780f6e50334",
            "_dom_classes": [],
            "description": "",
            "_model_name": "HTMLModel",
            "placeholder": "​",
            "_view_module": "@jupyter-widgets/controls",
            "_model_module_version": "1.5.0",
            "value": "Downloading: 100%",
            "_view_count": null,
            "_view_module_version": "1.5.0",
            "description_tooltip": null,
            "_model_module": "@jupyter-widgets/controls",
            "layout": "IPY_MODEL_897aae4a0f80475a98b8f910c45713f0"
          }
        },
        "8f969d60dcab42f6a30c8b5c25f84cd9": {
          "model_module": "@jupyter-widgets/controls",
          "model_name": "FloatProgressModel",
          "model_module_version": "1.5.0",
          "state": {
            "_view_name": "ProgressView",
            "style": "IPY_MODEL_83e15e878a3c4d7ba6cfa83f2fb536fb",
            "_dom_classes": [],
            "description": "",
            "_model_name": "FloatProgressModel",
            "bar_style": "success",
            "max": 435797,
            "_view_module": "@jupyter-widgets/controls",
            "_model_module_version": "1.5.0",
            "value": 435797,
            "_view_count": null,
            "_view_module_version": "1.5.0",
            "orientation": "horizontal",
            "min": 0,
            "description_tooltip": null,
            "_model_module": "@jupyter-widgets/controls",
            "layout": "IPY_MODEL_19985f102db445e3bea7946ad04ac56d"
          }
        },
        "696dbad86c144b21a0b07faf5a680003": {
          "model_module": "@jupyter-widgets/controls",
          "model_name": "HTMLModel",
          "model_module_version": "1.5.0",
          "state": {
            "_view_name": "HTMLView",
            "style": "IPY_MODEL_bd13e3a3e95c4fcf99f9e0c0d845b67f",
            "_dom_classes": [],
            "description": "",
            "_model_name": "HTMLModel",
            "placeholder": "​",
            "_view_module": "@jupyter-widgets/controls",
            "_model_module_version": "1.5.0",
            "value": " 426k/426k [00:00&lt;00:00, 851kB/s]",
            "_view_count": null,
            "_view_module_version": "1.5.0",
            "description_tooltip": null,
            "_model_module": "@jupyter-widgets/controls",
            "layout": "IPY_MODEL_b2fc9f4e13594f78b637526730dedd09"
          }
        },
        "9bbdc86276c64a96a6242780f6e50334": {
          "model_module": "@jupyter-widgets/controls",
          "model_name": "DescriptionStyleModel",
          "model_module_version": "1.5.0",
          "state": {
            "_view_name": "StyleView",
            "_model_name": "DescriptionStyleModel",
            "description_width": "",
            "_view_module": "@jupyter-widgets/base",
            "_model_module_version": "1.5.0",
            "_view_count": null,
            "_view_module_version": "1.2.0",
            "_model_module": "@jupyter-widgets/controls"
          }
        },
        "897aae4a0f80475a98b8f910c45713f0": {
          "model_module": "@jupyter-widgets/base",
          "model_name": "LayoutModel",
          "model_module_version": "1.2.0",
          "state": {
            "_view_name": "LayoutView",
            "grid_template_rows": null,
            "right": null,
            "justify_content": null,
            "_view_module": "@jupyter-widgets/base",
            "overflow": null,
            "_model_module_version": "1.2.0",
            "_view_count": null,
            "flex_flow": null,
            "width": null,
            "min_width": null,
            "border": null,
            "align_items": null,
            "bottom": null,
            "_model_module": "@jupyter-widgets/base",
            "top": null,
            "grid_column": null,
            "overflow_y": null,
            "overflow_x": null,
            "grid_auto_flow": null,
            "grid_area": null,
            "grid_template_columns": null,
            "flex": null,
            "_model_name": "LayoutModel",
            "justify_items": null,
            "grid_row": null,
            "max_height": null,
            "align_content": null,
            "visibility": null,
            "align_self": null,
            "height": null,
            "min_height": null,
            "padding": null,
            "grid_auto_rows": null,
            "grid_gap": null,
            "max_width": null,
            "order": null,
            "_view_module_version": "1.2.0",
            "grid_template_areas": null,
            "object_position": null,
            "object_fit": null,
            "grid_auto_columns": null,
            "margin": null,
            "display": null,
            "left": null
          }
        },
        "83e15e878a3c4d7ba6cfa83f2fb536fb": {
          "model_module": "@jupyter-widgets/controls",
          "model_name": "ProgressStyleModel",
          "model_module_version": "1.5.0",
          "state": {
            "_view_name": "StyleView",
            "_model_name": "ProgressStyleModel",
            "description_width": "",
            "_view_module": "@jupyter-widgets/base",
            "_model_module_version": "1.5.0",
            "_view_count": null,
            "_view_module_version": "1.2.0",
            "bar_color": null,
            "_model_module": "@jupyter-widgets/controls"
          }
        },
        "19985f102db445e3bea7946ad04ac56d": {
          "model_module": "@jupyter-widgets/base",
          "model_name": "LayoutModel",
          "model_module_version": "1.2.0",
          "state": {
            "_view_name": "LayoutView",
            "grid_template_rows": null,
            "right": null,
            "justify_content": null,
            "_view_module": "@jupyter-widgets/base",
            "overflow": null,
            "_model_module_version": "1.2.0",
            "_view_count": null,
            "flex_flow": null,
            "width": null,
            "min_width": null,
            "border": null,
            "align_items": null,
            "bottom": null,
            "_model_module": "@jupyter-widgets/base",
            "top": null,
            "grid_column": null,
            "overflow_y": null,
            "overflow_x": null,
            "grid_auto_flow": null,
            "grid_area": null,
            "grid_template_columns": null,
            "flex": null,
            "_model_name": "LayoutModel",
            "justify_items": null,
            "grid_row": null,
            "max_height": null,
            "align_content": null,
            "visibility": null,
            "align_self": null,
            "height": null,
            "min_height": null,
            "padding": null,
            "grid_auto_rows": null,
            "grid_gap": null,
            "max_width": null,
            "order": null,
            "_view_module_version": "1.2.0",
            "grid_template_areas": null,
            "object_position": null,
            "object_fit": null,
            "grid_auto_columns": null,
            "margin": null,
            "display": null,
            "left": null
          }
        },
        "bd13e3a3e95c4fcf99f9e0c0d845b67f": {
          "model_module": "@jupyter-widgets/controls",
          "model_name": "DescriptionStyleModel",
          "model_module_version": "1.5.0",
          "state": {
            "_view_name": "StyleView",
            "_model_name": "DescriptionStyleModel",
            "description_width": "",
            "_view_module": "@jupyter-widgets/base",
            "_model_module_version": "1.5.0",
            "_view_count": null,
            "_view_module_version": "1.2.0",
            "_model_module": "@jupyter-widgets/controls"
          }
        },
        "b2fc9f4e13594f78b637526730dedd09": {
          "model_module": "@jupyter-widgets/base",
          "model_name": "LayoutModel",
          "model_module_version": "1.2.0",
          "state": {
            "_view_name": "LayoutView",
            "grid_template_rows": null,
            "right": null,
            "justify_content": null,
            "_view_module": "@jupyter-widgets/base",
            "overflow": null,
            "_model_module_version": "1.2.0",
            "_view_count": null,
            "flex_flow": null,
            "width": null,
            "min_width": null,
            "border": null,
            "align_items": null,
            "bottom": null,
            "_model_module": "@jupyter-widgets/base",
            "top": null,
            "grid_column": null,
            "overflow_y": null,
            "overflow_x": null,
            "grid_auto_flow": null,
            "grid_area": null,
            "grid_template_columns": null,
            "flex": null,
            "_model_name": "LayoutModel",
            "justify_items": null,
            "grid_row": null,
            "max_height": null,
            "align_content": null,
            "visibility": null,
            "align_self": null,
            "height": null,
            "min_height": null,
            "padding": null,
            "grid_auto_rows": null,
            "grid_gap": null,
            "max_width": null,
            "order": null,
            "_view_module_version": "1.2.0",
            "grid_template_areas": null,
            "object_position": null,
            "object_fit": null,
            "grid_auto_columns": null,
            "margin": null,
            "display": null,
            "left": null
          }
        },
        "59e985a206cd47808bac7fb273b75591": {
          "model_module": "@jupyter-widgets/controls",
          "model_name": "HBoxModel",
          "model_module_version": "1.5.0",
          "state": {
            "_view_name": "HBoxView",
            "_dom_classes": [],
            "_model_name": "HBoxModel",
            "_view_module": "@jupyter-widgets/controls",
            "_model_module_version": "1.5.0",
            "_view_count": null,
            "_view_module_version": "1.5.0",
            "box_style": "",
            "layout": "IPY_MODEL_2f46864d7fa349d29e3758910ca6656e",
            "_model_module": "@jupyter-widgets/controls",
            "children": [
              "IPY_MODEL_0ac2deeb6304491f952825d0c7033cba",
              "IPY_MODEL_ce939f6ab9ae4a4b901d070fddd46d60",
              "IPY_MODEL_ab2ef4e402f942ff97aeb57a4afe0587"
            ]
          }
        },
        "2f46864d7fa349d29e3758910ca6656e": {
          "model_module": "@jupyter-widgets/base",
          "model_name": "LayoutModel",
          "model_module_version": "1.2.0",
          "state": {
            "_view_name": "LayoutView",
            "grid_template_rows": null,
            "right": null,
            "justify_content": null,
            "_view_module": "@jupyter-widgets/base",
            "overflow": null,
            "_model_module_version": "1.2.0",
            "_view_count": null,
            "flex_flow": null,
            "width": null,
            "min_width": null,
            "border": null,
            "align_items": null,
            "bottom": null,
            "_model_module": "@jupyter-widgets/base",
            "top": null,
            "grid_column": null,
            "overflow_y": null,
            "overflow_x": null,
            "grid_auto_flow": null,
            "grid_area": null,
            "grid_template_columns": null,
            "flex": null,
            "_model_name": "LayoutModel",
            "justify_items": null,
            "grid_row": null,
            "max_height": null,
            "align_content": null,
            "visibility": null,
            "align_self": null,
            "height": null,
            "min_height": null,
            "padding": null,
            "grid_auto_rows": null,
            "grid_gap": null,
            "max_width": null,
            "order": null,
            "_view_module_version": "1.2.0",
            "grid_template_areas": null,
            "object_position": null,
            "object_fit": null,
            "grid_auto_columns": null,
            "margin": null,
            "display": null,
            "left": null
          }
        },
        "0ac2deeb6304491f952825d0c7033cba": {
          "model_module": "@jupyter-widgets/controls",
          "model_name": "HTMLModel",
          "model_module_version": "1.5.0",
          "state": {
            "_view_name": "HTMLView",
            "style": "IPY_MODEL_4baba07604e44310ae4b9dae209b7830",
            "_dom_classes": [],
            "description": "",
            "_model_name": "HTMLModel",
            "placeholder": "​",
            "_view_module": "@jupyter-widgets/controls",
            "_model_module_version": "1.5.0",
            "value": "Downloading: 100%",
            "_view_count": null,
            "_view_module_version": "1.5.0",
            "description_tooltip": null,
            "_model_module": "@jupyter-widgets/controls",
            "layout": "IPY_MODEL_5261f044d15640de9f34b2a559495c6f"
          }
        },
        "ce939f6ab9ae4a4b901d070fddd46d60": {
          "model_module": "@jupyter-widgets/controls",
          "model_name": "FloatProgressModel",
          "model_module_version": "1.5.0",
          "state": {
            "_view_name": "ProgressView",
            "style": "IPY_MODEL_ff2dd7b2a0e341d68db60189524818c9",
            "_dom_classes": [],
            "description": "",
            "_model_name": "FloatProgressModel",
            "bar_style": "success",
            "max": 29,
            "_view_module": "@jupyter-widgets/controls",
            "_model_module_version": "1.5.0",
            "value": 29,
            "_view_count": null,
            "_view_module_version": "1.5.0",
            "orientation": "horizontal",
            "min": 0,
            "description_tooltip": null,
            "_model_module": "@jupyter-widgets/controls",
            "layout": "IPY_MODEL_ecefe45f7bde45aa89eca52210803196"
          }
        },
        "ab2ef4e402f942ff97aeb57a4afe0587": {
          "model_module": "@jupyter-widgets/controls",
          "model_name": "HTMLModel",
          "model_module_version": "1.5.0",
          "state": {
            "_view_name": "HTMLView",
            "style": "IPY_MODEL_bf32a7e37af24eebbae3b21171d63cf4",
            "_dom_classes": [],
            "description": "",
            "_model_name": "HTMLModel",
            "placeholder": "​",
            "_view_module": "@jupyter-widgets/controls",
            "_model_module_version": "1.5.0",
            "value": " 29.0/29.0 [00:00&lt;00:00, 1.26kB/s]",
            "_view_count": null,
            "_view_module_version": "1.5.0",
            "description_tooltip": null,
            "_model_module": "@jupyter-widgets/controls",
            "layout": "IPY_MODEL_94e283ad4204497c9cfbb3b6d7d11346"
          }
        },
        "4baba07604e44310ae4b9dae209b7830": {
          "model_module": "@jupyter-widgets/controls",
          "model_name": "DescriptionStyleModel",
          "model_module_version": "1.5.0",
          "state": {
            "_view_name": "StyleView",
            "_model_name": "DescriptionStyleModel",
            "description_width": "",
            "_view_module": "@jupyter-widgets/base",
            "_model_module_version": "1.5.0",
            "_view_count": null,
            "_view_module_version": "1.2.0",
            "_model_module": "@jupyter-widgets/controls"
          }
        },
        "5261f044d15640de9f34b2a559495c6f": {
          "model_module": "@jupyter-widgets/base",
          "model_name": "LayoutModel",
          "model_module_version": "1.2.0",
          "state": {
            "_view_name": "LayoutView",
            "grid_template_rows": null,
            "right": null,
            "justify_content": null,
            "_view_module": "@jupyter-widgets/base",
            "overflow": null,
            "_model_module_version": "1.2.0",
            "_view_count": null,
            "flex_flow": null,
            "width": null,
            "min_width": null,
            "border": null,
            "align_items": null,
            "bottom": null,
            "_model_module": "@jupyter-widgets/base",
            "top": null,
            "grid_column": null,
            "overflow_y": null,
            "overflow_x": null,
            "grid_auto_flow": null,
            "grid_area": null,
            "grid_template_columns": null,
            "flex": null,
            "_model_name": "LayoutModel",
            "justify_items": null,
            "grid_row": null,
            "max_height": null,
            "align_content": null,
            "visibility": null,
            "align_self": null,
            "height": null,
            "min_height": null,
            "padding": null,
            "grid_auto_rows": null,
            "grid_gap": null,
            "max_width": null,
            "order": null,
            "_view_module_version": "1.2.0",
            "grid_template_areas": null,
            "object_position": null,
            "object_fit": null,
            "grid_auto_columns": null,
            "margin": null,
            "display": null,
            "left": null
          }
        },
        "ff2dd7b2a0e341d68db60189524818c9": {
          "model_module": "@jupyter-widgets/controls",
          "model_name": "ProgressStyleModel",
          "model_module_version": "1.5.0",
          "state": {
            "_view_name": "StyleView",
            "_model_name": "ProgressStyleModel",
            "description_width": "",
            "_view_module": "@jupyter-widgets/base",
            "_model_module_version": "1.5.0",
            "_view_count": null,
            "_view_module_version": "1.2.0",
            "bar_color": null,
            "_model_module": "@jupyter-widgets/controls"
          }
        },
        "ecefe45f7bde45aa89eca52210803196": {
          "model_module": "@jupyter-widgets/base",
          "model_name": "LayoutModel",
          "model_module_version": "1.2.0",
          "state": {
            "_view_name": "LayoutView",
            "grid_template_rows": null,
            "right": null,
            "justify_content": null,
            "_view_module": "@jupyter-widgets/base",
            "overflow": null,
            "_model_module_version": "1.2.0",
            "_view_count": null,
            "flex_flow": null,
            "width": null,
            "min_width": null,
            "border": null,
            "align_items": null,
            "bottom": null,
            "_model_module": "@jupyter-widgets/base",
            "top": null,
            "grid_column": null,
            "overflow_y": null,
            "overflow_x": null,
            "grid_auto_flow": null,
            "grid_area": null,
            "grid_template_columns": null,
            "flex": null,
            "_model_name": "LayoutModel",
            "justify_items": null,
            "grid_row": null,
            "max_height": null,
            "align_content": null,
            "visibility": null,
            "align_self": null,
            "height": null,
            "min_height": null,
            "padding": null,
            "grid_auto_rows": null,
            "grid_gap": null,
            "max_width": null,
            "order": null,
            "_view_module_version": "1.2.0",
            "grid_template_areas": null,
            "object_position": null,
            "object_fit": null,
            "grid_auto_columns": null,
            "margin": null,
            "display": null,
            "left": null
          }
        },
        "bf32a7e37af24eebbae3b21171d63cf4": {
          "model_module": "@jupyter-widgets/controls",
          "model_name": "DescriptionStyleModel",
          "model_module_version": "1.5.0",
          "state": {
            "_view_name": "StyleView",
            "_model_name": "DescriptionStyleModel",
            "description_width": "",
            "_view_module": "@jupyter-widgets/base",
            "_model_module_version": "1.5.0",
            "_view_count": null,
            "_view_module_version": "1.2.0",
            "_model_module": "@jupyter-widgets/controls"
          }
        },
        "94e283ad4204497c9cfbb3b6d7d11346": {
          "model_module": "@jupyter-widgets/base",
          "model_name": "LayoutModel",
          "model_module_version": "1.2.0",
          "state": {
            "_view_name": "LayoutView",
            "grid_template_rows": null,
            "right": null,
            "justify_content": null,
            "_view_module": "@jupyter-widgets/base",
            "overflow": null,
            "_model_module_version": "1.2.0",
            "_view_count": null,
            "flex_flow": null,
            "width": null,
            "min_width": null,
            "border": null,
            "align_items": null,
            "bottom": null,
            "_model_module": "@jupyter-widgets/base",
            "top": null,
            "grid_column": null,
            "overflow_y": null,
            "overflow_x": null,
            "grid_auto_flow": null,
            "grid_area": null,
            "grid_template_columns": null,
            "flex": null,
            "_model_name": "LayoutModel",
            "justify_items": null,
            "grid_row": null,
            "max_height": null,
            "align_content": null,
            "visibility": null,
            "align_self": null,
            "height": null,
            "min_height": null,
            "padding": null,
            "grid_auto_rows": null,
            "grid_gap": null,
            "max_width": null,
            "order": null,
            "_view_module_version": "1.2.0",
            "grid_template_areas": null,
            "object_position": null,
            "object_fit": null,
            "grid_auto_columns": null,
            "margin": null,
            "display": null,
            "left": null
          }
        }
      }
    }
  },
  "cells": [
    {
      "cell_type": "code",
      "metadata": {
        "id": "4f26cdc8-8ebd-42da-88cf-cb14d3c163be"
      },
      "source": [
        "import pandas as pd\n",
        "import numpy as np\n",
        "import re\n",
        "from sklearn import metrics\n",
        "from sklearn.metrics import classification_report"
      ],
      "id": "4f26cdc8-8ebd-42da-88cf-cb14d3c163be",
      "execution_count": 1,
      "outputs": []
    },
    {
      "cell_type": "code",
      "metadata": {
        "colab": {
          "base_uri": "https://localhost:8080/"
        },
        "id": "6exlB6bQk5hX",
        "outputId": "e322ee99-8432-42c5-989a-1a0ee4328d88"
      },
      "source": [
        "from google.colab import drive\n",
        "drive.mount('/content/drive')"
      ],
      "id": "6exlB6bQk5hX",
      "execution_count": 2,
      "outputs": [
        {
          "output_type": "stream",
          "name": "stdout",
          "text": [
            "Mounted at /content/drive\n"
          ]
        }
      ]
    },
    {
      "cell_type": "code",
      "metadata": {
        "id": "8fa55bf9-71b6-4261-a889-8403efa23c33"
      },
      "source": [
        "# age_df = pd.read_csv('./data/preprocessed_tweets_with_for_age_pred.csv', lineterminator='\\n')\n",
        "age_df = pd.read_csv('/content/drive/MyDrive/CS640/final_project/preprocessed_tweets_with_for_age_pred.csv', lineterminator='\\n')"
      ],
      "id": "8fa55bf9-71b6-4261-a889-8403efa23c33",
      "execution_count": 5,
      "outputs": []
    },
    {
      "cell_type": "code",
      "metadata": {
        "colab": {
          "base_uri": "https://localhost:8080/"
        },
        "id": "4d9b990a-9768-4fb8-b20d-da8b13ee783c",
        "outputId": "e5b2e151-cbd0-4f43-d646-2cbf766dc56c"
      },
      "source": [
        "age_df.columns"
      ],
      "id": "4d9b990a-9768-4fb8-b20d-da8b13ee783c",
      "execution_count": 6,
      "outputs": [
        {
          "output_type": "execute_result",
          "data": {
            "text/plain": [
              "Index(['Unnamed: 0', 'screen_name', '0', '1', '2', '3', '4', '5', '6', '7',\n",
              "       ...\n",
              "       'profile_background_url', 'profile_image_url', 'user.name',\n",
              "       'num.tweets.used.Lexicon.prediction', 'Lexicon.age.prediction',\n",
              "       'Lexicon.gender.prediction..index.', 'lexicon.gender.prediction',\n",
              "       'human.labeled.gender', 'human.labeled.age', 'age'],\n",
              "      dtype='object', length=128)"
            ]
          },
          "metadata": {},
          "execution_count": 6
        }
      ]
    },
    {
      "cell_type": "code",
      "metadata": {
        "id": "ec994379-73eb-40f7-8a88-14bcef635ca6"
      },
      "source": [
        "age_dict = {}\n",
        "age_dict['text'] = age_df['0'].to_list()\n",
        "age_dict['label'] = age_df['human.labeled.age'].to_list() * 100\n",
        "age_dict['screen_name'] = age_df['screen_name'].to_list() * 100\n",
        "\n",
        "for col in range(1, 100):\n",
        "    age_dict['text'] += age_df[str(col)].to_list()\n"
      ],
      "id": "ec994379-73eb-40f7-8a88-14bcef635ca6",
      "execution_count": 7,
      "outputs": []
    },
    {
      "cell_type": "code",
      "metadata": {
        "id": "7961d929-a0f3-4cd3-9630-bcf2d1a70ba8"
      },
      "source": [
        "age_df = pd.DataFrame.from_dict(age_dict)"
      ],
      "id": "7961d929-a0f3-4cd3-9630-bcf2d1a70ba8",
      "execution_count": 8,
      "outputs": []
    },
    {
      "cell_type": "code",
      "metadata": {
        "colab": {
          "base_uri": "https://localhost:8080/",
          "height": 424
        },
        "id": "ba598dac-ffc3-44cb-bbf1-15568e0dd995",
        "outputId": "9647bce3-eede-409f-df34-e63a07fadf34"
      },
      "source": [
        "age_df"
      ],
      "id": "ba598dac-ffc3-44cb-bbf1-15568e0dd995",
      "execution_count": 9,
      "outputs": [
        {
          "output_type": "execute_result",
          "data": {
            "text/html": [
              "<div>\n",
              "<style scoped>\n",
              "    .dataframe tbody tr th:only-of-type {\n",
              "        vertical-align: middle;\n",
              "    }\n",
              "\n",
              "    .dataframe tbody tr th {\n",
              "        vertical-align: top;\n",
              "    }\n",
              "\n",
              "    .dataframe thead th {\n",
              "        text-align: right;\n",
              "    }\n",
              "</style>\n",
              "<table border=\"1\" class=\"dataframe\">\n",
              "  <thead>\n",
              "    <tr style=\"text-align: right;\">\n",
              "      <th></th>\n",
              "      <th>text</th>\n",
              "      <th>label</th>\n",
              "      <th>screen_name</th>\n",
              "    </tr>\n",
              "  </thead>\n",
              "  <tbody>\n",
              "    <tr>\n",
              "      <th>0</th>\n",
              "      <td>NaN</td>\n",
              "      <td>1</td>\n",
              "      <td>_____zac_____</td>\n",
              "    </tr>\n",
              "    <tr>\n",
              "      <th>1</th>\n",
              "      <td>haven talked this girl since sophomore year an...</td>\n",
              "      <td>0</td>\n",
              "      <td>___aleia</td>\n",
              "    </tr>\n",
              "    <tr>\n",
              "      <th>2</th>\n",
              "      <td>NaN</td>\n",
              "      <td>1</td>\n",
              "      <td>___schaeffer___</td>\n",
              "    </tr>\n",
              "    <tr>\n",
              "      <th>3</th>\n",
              "      <td>rly try cash app using code and each get dlnxtrw</td>\n",
              "      <td>1</td>\n",
              "      <td>__drewc</td>\n",
              "    </tr>\n",
              "    <tr>\n",
              "      <th>4</th>\n",
              "      <td>yes but come san marcos and live with</td>\n",
              "      <td>0</td>\n",
              "      <td>__EmilyRice__</td>\n",
              "    </tr>\n",
              "    <tr>\n",
              "      <th>...</th>\n",
              "      <td>...</td>\n",
              "      <td>...</td>\n",
              "      <td>...</td>\n",
              "    </tr>\n",
              "    <tr>\n",
              "      <th>114495</th>\n",
              "      <td>None</td>\n",
              "      <td>0</td>\n",
              "      <td>zmeadows_18</td>\n",
              "    </tr>\n",
              "    <tr>\n",
              "      <th>114496</th>\n",
              "      <td>she missed her st because covid pls</td>\n",
              "      <td>0</td>\n",
              "      <td>ZoeBerrier</td>\n",
              "    </tr>\n",
              "    <tr>\n",
              "      <th>114497</th>\n",
              "      <td>sister made such good first impression friends</td>\n",
              "      <td>1</td>\n",
              "      <td>ZoeCalamaco</td>\n",
              "    </tr>\n",
              "    <tr>\n",
              "      <th>114498</th>\n",
              "      <td>None</td>\n",
              "      <td>1</td>\n",
              "      <td>ZoPeachy</td>\n",
              "    </tr>\n",
              "    <tr>\n",
              "      <th>114499</th>\n",
              "      <td>None</td>\n",
              "      <td>1</td>\n",
              "      <td>zzzakari4</td>\n",
              "    </tr>\n",
              "  </tbody>\n",
              "</table>\n",
              "<p>114500 rows × 3 columns</p>\n",
              "</div>"
            ],
            "text/plain": [
              "                                                     text  ...      screen_name\n",
              "0                                                     NaN  ...    _____zac_____\n",
              "1       haven talked this girl since sophomore year an...  ...         ___aleia\n",
              "2                                                     NaN  ...  ___schaeffer___\n",
              "3        rly try cash app using code and each get dlnxtrw  ...          __drewc\n",
              "4                   yes but come san marcos and live with  ...    __EmilyRice__\n",
              "...                                                   ...  ...              ...\n",
              "114495                                               None  ...      zmeadows_18\n",
              "114496                she missed her st because covid pls  ...       ZoeBerrier\n",
              "114497     sister made such good first impression friends  ...      ZoeCalamaco\n",
              "114498                                               None  ...         ZoPeachy\n",
              "114499                                               None  ...        zzzakari4\n",
              "\n",
              "[114500 rows x 3 columns]"
            ]
          },
          "metadata": {},
          "execution_count": 9
        }
      ]
    },
    {
      "cell_type": "markdown",
      "metadata": {
        "id": "4e6b8cb5-9af8-4e04-905a-4f7b2bf0b356"
      },
      "source": [
        "##### drop nan and clean None\n",
        "drop nan before use re.sub to replace 'None' to np.NaN, then drop nan again"
      ],
      "id": "4e6b8cb5-9af8-4e04-905a-4f7b2bf0b356"
    },
    {
      "cell_type": "code",
      "metadata": {
        "id": "2a051b76-7c79-4e93-9546-86ee8e74db47"
      },
      "source": [
        "age_df.dropna(subset=['text'], inplace=True)"
      ],
      "id": "2a051b76-7c79-4e93-9546-86ee8e74db47",
      "execution_count": 10,
      "outputs": []
    },
    {
      "cell_type": "code",
      "metadata": {
        "colab": {
          "base_uri": "https://localhost:8080/"
        },
        "id": "4389ee86-1de9-4fcd-a3d3-0d826bab9829",
        "outputId": "145a1998-4812-4185-e158-61019f6dc270"
      },
      "source": [
        "import re\n",
        "\n",
        "str_ls = []\n",
        "for s in age_df['text']:\n",
        "    temp = re.sub('None', '', s)\n",
        "    str_ls.append(temp)\n",
        "    \n",
        "age_df['text'] = str_ls\n",
        "\n",
        "age_df['text'] = age_df['text'].replace(r'^\\s*$', np.NaN, regex=True)\n",
        "\n",
        "age_df['text'].isna().sum()"
      ],
      "id": "4389ee86-1de9-4fcd-a3d3-0d826bab9829",
      "execution_count": 11,
      "outputs": [
        {
          "output_type": "execute_result",
          "data": {
            "text/plain": [
              "8193"
            ]
          },
          "metadata": {},
          "execution_count": 11
        }
      ]
    },
    {
      "cell_type": "code",
      "metadata": {
        "colab": {
          "base_uri": "https://localhost:8080/"
        },
        "id": "9c47c56c-0889-44f6-8d66-4342e16afee9",
        "outputId": "75f55032-a72a-46f6-c5d5-0ab384f54e8e"
      },
      "source": [
        "age_df.dropna(subset=['text'], inplace=True)\n",
        "len(age_df)"
      ],
      "id": "9c47c56c-0889-44f6-8d66-4342e16afee9",
      "execution_count": 12,
      "outputs": [
        {
          "output_type": "execute_result",
          "data": {
            "text/plain": [
              "96789"
            ]
          },
          "metadata": {},
          "execution_count": 12
        }
      ]
    },
    {
      "cell_type": "code",
      "metadata": {
        "colab": {
          "base_uri": "https://localhost:8080/"
        },
        "id": "431c5fe2-64b4-40dc-8bf6-839f8a1ec1f6",
        "outputId": "fa8795cb-0912-4e24-e72a-bfc20beeef70"
      },
      "source": [
        "age_df['label'].value_counts()"
      ],
      "id": "431c5fe2-64b4-40dc-8bf6-839f8a1ec1f6",
      "execution_count": 13,
      "outputs": [
        {
          "output_type": "execute_result",
          "data": {
            "text/plain": [
              "1    60674\n",
              "0    36115\n",
              "Name: label, dtype: int64"
            ]
          },
          "metadata": {},
          "execution_count": 13
        }
      ]
    },
    {
      "cell_type": "markdown",
      "metadata": {
        "id": "cc4a214c-5d0d-4b1f-9099-8862d3284ee9"
      },
      "source": [
        "sample 10000 data from each label"
      ],
      "id": "cc4a214c-5d0d-4b1f-9099-8862d3284ee9"
    },
    {
      "cell_type": "code",
      "metadata": {
        "id": "959db6ce-3fc6-43d6-be94-82d97b4cb19a"
      },
      "source": [
        "freq = pd.DataFrame({'label':[0, 1],\n",
        "                     'nostoextract':[10000, 20000], })\n",
        "\n",
        "def bootstrap(data, freq):\n",
        "    freq = freq.set_index('label')\n",
        "\n",
        "    # This function will be applied on each group of instances of the same\n",
        "    # class in `data`.\n",
        "    def sampleClass(classgroup):\n",
        "        cls = classgroup['label'].iloc[0]\n",
        "        nDesired = freq.nostoextract[cls]\n",
        "        nRows = len(classgroup)\n",
        "\n",
        "        nSamples = min(nRows, nDesired)\n",
        "        return classgroup.sample(nSamples)\n",
        "\n",
        "    samples = data.groupby('label').apply(sampleClass)\n",
        "\n",
        "    # If you want a new index with ascending values\n",
        "    # samples.index = range(len(samples))\n",
        "\n",
        "    # If you want an index which is equal to the row in `data` where the sample\n",
        "    # came from\n",
        "    samples.index = samples.index.get_level_values(1)\n",
        "\n",
        "    # If you don't change it then you'll have a multiindex with level 0\n",
        "    # being the class and level 1 being the row in `data` where\n",
        "    # the sample came from.\n",
        "\n",
        "    return samples\n",
        "\n",
        "train_age_df = bootstrap(age_df,freq)\n"
      ],
      "id": "959db6ce-3fc6-43d6-be94-82d97b4cb19a",
      "execution_count": 14,
      "outputs": []
    },
    {
      "cell_type": "code",
      "metadata": {
        "colab": {
          "base_uri": "https://localhost:8080/"
        },
        "id": "8a5170b9-fdde-4bab-a556-aef32a6ba9d3",
        "outputId": "f8cd9ecf-c38c-4d59-e321-1c7f709b452a"
      },
      "source": [
        "len(train_age_df)"
      ],
      "id": "8a5170b9-fdde-4bab-a556-aef32a6ba9d3",
      "execution_count": 16,
      "outputs": [
        {
          "output_type": "execute_result",
          "data": {
            "text/plain": [
              "30000"
            ]
          },
          "metadata": {},
          "execution_count": 16
        }
      ]
    },
    {
      "cell_type": "code",
      "metadata": {
        "colab": {
          "base_uri": "https://localhost:8080/"
        },
        "id": "5b03167e-21d3-4ebf-9448-598a9f5012c0",
        "outputId": "e1956777-97e0-4e1e-8aca-e0bfecbdf90a"
      },
      "source": [
        "test_age_df = age_df.drop(index = train_age_df.index, axis = 0)\n",
        "test_freq = pd.DataFrame({'label':[0, 1],\n",
        "                     'nostoextract':[5000, 5000], })\n",
        "test_age_df = bootstrap(age_df,test_freq)\n",
        "len(test_age_df)"
      ],
      "id": "5b03167e-21d3-4ebf-9448-598a9f5012c0",
      "execution_count": 18,
      "outputs": [
        {
          "output_type": "execute_result",
          "data": {
            "text/plain": [
              "10000"
            ]
          },
          "metadata": {},
          "execution_count": 18
        }
      ]
    },
    {
      "cell_type": "code",
      "metadata": {
        "id": "25be56ee-be99-4ae3-b09f-5416f029ae40"
      },
      "source": [
        "from sklearn.model_selection import train_test_split\n",
        "X_train, X_val, y_train, y_val = train_test_split(train_age_df['text'], train_age_df['label'], test_size=0.3, stratify=train_age_df['label'])"
      ],
      "id": "25be56ee-be99-4ae3-b09f-5416f029ae40",
      "execution_count": 17,
      "outputs": []
    },
    {
      "cell_type": "markdown",
      "metadata": {
        "id": "3ffff85e-7228-49fd-bafe-6144f463358a"
      },
      "source": [
        "### Age prediction using pre-trained BERT model"
      ],
      "id": "3ffff85e-7228-49fd-bafe-6144f463358a"
    },
    {
      "cell_type": "code",
      "metadata": {
        "colab": {
          "base_uri": "https://localhost:8080/"
        },
        "id": "_2chyI5dlro6",
        "outputId": "16c21225-c2f2-49da-e337-66113bfb9169"
      },
      "source": [
        "!pip install transformers\n",
        "!pip insrall torch"
      ],
      "id": "_2chyI5dlro6",
      "execution_count": 19,
      "outputs": [
        {
          "output_type": "stream",
          "name": "stdout",
          "text": [
            "Collecting transformers\n",
            "  Downloading transformers-4.12.5-py3-none-any.whl (3.1 MB)\n",
            "\u001b[K     |████████████████████████████████| 3.1 MB 6.9 MB/s \n",
            "\u001b[?25hRequirement already satisfied: numpy>=1.17 in /usr/local/lib/python3.7/dist-packages (from transformers) (1.19.5)\n",
            "Requirement already satisfied: filelock in /usr/local/lib/python3.7/dist-packages (from transformers) (3.4.0)\n",
            "Requirement already satisfied: requests in /usr/local/lib/python3.7/dist-packages (from transformers) (2.23.0)\n",
            "Requirement already satisfied: tqdm>=4.27 in /usr/local/lib/python3.7/dist-packages (from transformers) (4.62.3)\n",
            "Collecting sacremoses\n",
            "  Downloading sacremoses-0.0.46-py3-none-any.whl (895 kB)\n",
            "\u001b[K     |████████████████████████████████| 895 kB 57.8 MB/s \n",
            "\u001b[?25hRequirement already satisfied: regex!=2019.12.17 in /usr/local/lib/python3.7/dist-packages (from transformers) (2019.12.20)\n",
            "Requirement already satisfied: packaging>=20.0 in /usr/local/lib/python3.7/dist-packages (from transformers) (21.3)\n",
            "Requirement already satisfied: importlib-metadata in /usr/local/lib/python3.7/dist-packages (from transformers) (4.8.2)\n",
            "Collecting pyyaml>=5.1\n",
            "  Downloading PyYAML-6.0-cp37-cp37m-manylinux_2_5_x86_64.manylinux1_x86_64.manylinux_2_12_x86_64.manylinux2010_x86_64.whl (596 kB)\n",
            "\u001b[K     |████████████████████████████████| 596 kB 59.1 MB/s \n",
            "\u001b[?25hCollecting huggingface-hub<1.0,>=0.1.0\n",
            "  Downloading huggingface_hub-0.2.1-py3-none-any.whl (61 kB)\n",
            "\u001b[K     |████████████████████████████████| 61 kB 671 kB/s \n",
            "\u001b[?25hCollecting tokenizers<0.11,>=0.10.1\n",
            "  Downloading tokenizers-0.10.3-cp37-cp37m-manylinux_2_5_x86_64.manylinux1_x86_64.manylinux_2_12_x86_64.manylinux2010_x86_64.whl (3.3 MB)\n",
            "\u001b[K     |████████████████████████████████| 3.3 MB 25.5 MB/s \n",
            "\u001b[?25hRequirement already satisfied: typing-extensions>=3.7.4.3 in /usr/local/lib/python3.7/dist-packages (from huggingface-hub<1.0,>=0.1.0->transformers) (3.10.0.2)\n",
            "Requirement already satisfied: pyparsing!=3.0.5,>=2.0.2 in /usr/local/lib/python3.7/dist-packages (from packaging>=20.0->transformers) (3.0.6)\n",
            "Requirement already satisfied: zipp>=0.5 in /usr/local/lib/python3.7/dist-packages (from importlib-metadata->transformers) (3.6.0)\n",
            "Requirement already satisfied: urllib3!=1.25.0,!=1.25.1,<1.26,>=1.21.1 in /usr/local/lib/python3.7/dist-packages (from requests->transformers) (1.24.3)\n",
            "Requirement already satisfied: idna<3,>=2.5 in /usr/local/lib/python3.7/dist-packages (from requests->transformers) (2.10)\n",
            "Requirement already satisfied: chardet<4,>=3.0.2 in /usr/local/lib/python3.7/dist-packages (from requests->transformers) (3.0.4)\n",
            "Requirement already satisfied: certifi>=2017.4.17 in /usr/local/lib/python3.7/dist-packages (from requests->transformers) (2021.10.8)\n",
            "Requirement already satisfied: click in /usr/local/lib/python3.7/dist-packages (from sacremoses->transformers) (7.1.2)\n",
            "Requirement already satisfied: six in /usr/local/lib/python3.7/dist-packages (from sacremoses->transformers) (1.15.0)\n",
            "Requirement already satisfied: joblib in /usr/local/lib/python3.7/dist-packages (from sacremoses->transformers) (1.1.0)\n",
            "Installing collected packages: pyyaml, tokenizers, sacremoses, huggingface-hub, transformers\n",
            "  Attempting uninstall: pyyaml\n",
            "    Found existing installation: PyYAML 3.13\n",
            "    Uninstalling PyYAML-3.13:\n",
            "      Successfully uninstalled PyYAML-3.13\n",
            "Successfully installed huggingface-hub-0.2.1 pyyaml-6.0 sacremoses-0.0.46 tokenizers-0.10.3 transformers-4.12.5\n",
            "ERROR: unknown command \"insrall\" - maybe you meant \"install\"\n"
          ]
        }
      ]
    },
    {
      "cell_type": "code",
      "metadata": {
        "id": "f423886f-9ed3-4c25-a8f3-fbd22d328e61"
      },
      "source": [
        "import transformers\n",
        "import torch\n",
        "import torch.nn as nn\n",
        "from transformers import AutoModel, BertTokenizerFast"
      ],
      "id": "f423886f-9ed3-4c25-a8f3-fbd22d328e61",
      "execution_count": 20,
      "outputs": []
    },
    {
      "cell_type": "code",
      "metadata": {
        "colab": {
          "base_uri": "https://localhost:8080/",
          "height": 249,
          "referenced_widgets": [
            "3ce0ef7dcb1d43febccb52c0271da4c1",
            "3129d78cd674452da5e0810654f7d20e",
            "71e1213dce9d4873b1ed105731c6fac7",
            "bc8d1c82cf4d4fd5b215c4ffb7cd56a4",
            "7d0afbfc91c940a18dbcd6f38fef679f",
            "b656ef1b31244e3c89b024c067037c19",
            "8da3dc2eaae9479489eaa28ba985bcff",
            "b32b3e2a440b4a3e98296c6099b83cb8",
            "fa9fb7561c8a481b9d49c03ed1a2b1ce",
            "658e9512fbf34b6d8b31ba5c4b63eb6f",
            "749387dd765a4b42a6df67c96870d2fe",
            "f61bcc7847194780a67fcb3fa589ec68",
            "66b46fbb81294ee6b54be08c0ce8b511",
            "d8b8c518ceda438cbc2324a326f80db2",
            "f1b7e35e54964e5eb9af6d201627d601",
            "08ce444b1d9242429894adb03aa7c9ea",
            "9e87579e56ea431984c318939b99a5a4",
            "411c18a493b1442190e9036d9e0db4dd",
            "588ef4f5eaaa42e3bf07fbb4b1d80ece",
            "e85828bc74554b1d8bc1dda586084e0e",
            "3515ba5a9fe346c9ba7040fc4a0728c2",
            "21f9808487b346b3a1c22e1cf0d9fd82",
            "bbb5d4dc6082432184122997bb10a823",
            "685a33d98e8e4a2099aa1f07090aad5f",
            "172638c7936e43c8bfd6adb0b20eb72c",
            "40241b3e98cd43d3bba313d60960d180",
            "63bca4e0ea0840b7b1937f7a4b35f119",
            "f7e7c59a657f4d29bb802f2bf604d141",
            "dd1ef2c27fae42dba4808828baa0a2b2",
            "45ed8429453b4b389bb870773c97c16c",
            "6860be2c984d43f4b7c0b8125f4e6ee7",
            "243487c39a074815abe7a13aaade9b3d",
            "fdcbff0667ff4b528a50abd56be29e43",
            "82a8b61ac67e43b2a8ec768e6be28577",
            "041514eb115e42ddb71dde24a27d7ebf",
            "97c29fdae6b1498892df0fc5d09e0bbf",
            "8f969d60dcab42f6a30c8b5c25f84cd9",
            "696dbad86c144b21a0b07faf5a680003",
            "9bbdc86276c64a96a6242780f6e50334",
            "897aae4a0f80475a98b8f910c45713f0",
            "83e15e878a3c4d7ba6cfa83f2fb536fb",
            "19985f102db445e3bea7946ad04ac56d",
            "bd13e3a3e95c4fcf99f9e0c0d845b67f",
            "b2fc9f4e13594f78b637526730dedd09",
            "59e985a206cd47808bac7fb273b75591",
            "2f46864d7fa349d29e3758910ca6656e",
            "0ac2deeb6304491f952825d0c7033cba",
            "ce939f6ab9ae4a4b901d070fddd46d60",
            "ab2ef4e402f942ff97aeb57a4afe0587",
            "4baba07604e44310ae4b9dae209b7830",
            "5261f044d15640de9f34b2a559495c6f",
            "ff2dd7b2a0e341d68db60189524818c9",
            "ecefe45f7bde45aa89eca52210803196",
            "bf32a7e37af24eebbae3b21171d63cf4",
            "94e283ad4204497c9cfbb3b6d7d11346"
          ]
        },
        "id": "95ef7cf0-60c9-44bf-93ba-845f89305522",
        "outputId": "0577a519-6b9c-4ba1-9c3e-2e79cc6a5b9a"
      },
      "source": [
        "# import BERT-base pretrained model\n",
        "bert = AutoModel.from_pretrained('bert-base-cased', return_dict=False)\n",
        "# Load the BERT tokenizer\n",
        "tokenizer = BertTokenizerFast.from_pretrained('bert-base-cased')"
      ],
      "id": "95ef7cf0-60c9-44bf-93ba-845f89305522",
      "execution_count": 21,
      "outputs": [
        {
          "output_type": "display_data",
          "data": {
            "application/vnd.jupyter.widget-view+json": {
              "model_id": "3ce0ef7dcb1d43febccb52c0271da4c1",
              "version_minor": 0,
              "version_major": 2
            },
            "text/plain": [
              "Downloading:   0%|          | 0.00/570 [00:00<?, ?B/s]"
            ]
          },
          "metadata": {}
        },
        {
          "output_type": "display_data",
          "data": {
            "application/vnd.jupyter.widget-view+json": {
              "model_id": "f61bcc7847194780a67fcb3fa589ec68",
              "version_minor": 0,
              "version_major": 2
            },
            "text/plain": [
              "Downloading:   0%|          | 0.00/416M [00:00<?, ?B/s]"
            ]
          },
          "metadata": {}
        },
        {
          "output_type": "stream",
          "name": "stderr",
          "text": [
            "Some weights of the model checkpoint at bert-base-cased were not used when initializing BertModel: ['cls.predictions.transform.dense.bias', 'cls.predictions.bias', 'cls.predictions.transform.LayerNorm.bias', 'cls.seq_relationship.weight', 'cls.seq_relationship.bias', 'cls.predictions.decoder.weight', 'cls.predictions.transform.dense.weight', 'cls.predictions.transform.LayerNorm.weight']\n",
            "- This IS expected if you are initializing BertModel from the checkpoint of a model trained on another task or with another architecture (e.g. initializing a BertForSequenceClassification model from a BertForPreTraining model).\n",
            "- This IS NOT expected if you are initializing BertModel from the checkpoint of a model that you expect to be exactly identical (initializing a BertForSequenceClassification model from a BertForSequenceClassification model).\n"
          ]
        },
        {
          "output_type": "display_data",
          "data": {
            "application/vnd.jupyter.widget-view+json": {
              "model_id": "bbb5d4dc6082432184122997bb10a823",
              "version_minor": 0,
              "version_major": 2
            },
            "text/plain": [
              "Downloading:   0%|          | 0.00/208k [00:00<?, ?B/s]"
            ]
          },
          "metadata": {}
        },
        {
          "output_type": "display_data",
          "data": {
            "application/vnd.jupyter.widget-view+json": {
              "model_id": "82a8b61ac67e43b2a8ec768e6be28577",
              "version_minor": 0,
              "version_major": 2
            },
            "text/plain": [
              "Downloading:   0%|          | 0.00/426k [00:00<?, ?B/s]"
            ]
          },
          "metadata": {}
        },
        {
          "output_type": "display_data",
          "data": {
            "application/vnd.jupyter.widget-view+json": {
              "model_id": "59e985a206cd47808bac7fb273b75591",
              "version_minor": 0,
              "version_major": 2
            },
            "text/plain": [
              "Downloading:   0%|          | 0.00/29.0 [00:00<?, ?B/s]"
            ]
          },
          "metadata": {}
        }
      ]
    },
    {
      "cell_type": "code",
      "metadata": {
        "colab": {
          "base_uri": "https://localhost:8080/",
          "height": 282
        },
        "id": "9c43b5d9-9dbc-44f6-ad22-5e3f733b468c",
        "outputId": "57e2f134-ec81-4a24-af20-bf9cfbd07fe8"
      },
      "source": [
        "# get length of all the messages in the train set\n",
        "seq_len = [len(i.split()) for i in age_df['text']]\n",
        "pd.Series(seq_len).hist(bins = 30)"
      ],
      "id": "9c43b5d9-9dbc-44f6-ad22-5e3f733b468c",
      "execution_count": 22,
      "outputs": [
        {
          "output_type": "execute_result",
          "data": {
            "text/plain": [
              "<matplotlib.axes._subplots.AxesSubplot at 0x7f94e7f0d1d0>"
            ]
          },
          "metadata": {},
          "execution_count": 22
        },
        {
          "output_type": "display_data",
          "data": {
            "image/png": "[encoded data removed]",
            "text/plain": [
              "<Figure size 432x288 with 1 Axes>"
            ]
          },
          "metadata": {
            "needs_background": "light"
          }
        }
      ]
    },
    {
      "cell_type": "code",
      "metadata": {
        "id": "714b0b76-6a3c-4eb4-ad9c-34d260673569"
      },
      "source": [
        "# tokenize and encode sequences in the training set\n",
        "tokens_train = tokenizer.batch_encode_plus(\n",
        "    X_train.tolist(), \n",
        "    max_length = 25,\n",
        "    padding='max_length', \n",
        "    truncation=True,\n",
        "\n",
        ")"
      ],
      "id": "714b0b76-6a3c-4eb4-ad9c-34d260673569",
      "execution_count": 23,
      "outputs": []
    },
    {
      "cell_type": "code",
      "metadata": {
        "id": "67da9856-1597-43ee-852e-047499e7cd7e"
      },
      "source": [
        "# tokenize and encode sequences in the validation set\n",
        "tokens_val = tokenizer.batch_encode_plus(\n",
        "    X_val.tolist(), \n",
        "    max_length = 25,\n",
        "    padding='max_length', \n",
        "    truncation=True,\n",
        "\n",
        ")"
      ],
      "id": "67da9856-1597-43ee-852e-047499e7cd7e",
      "execution_count": 24,
      "outputs": []
    },
    {
      "cell_type": "code",
      "metadata": {
        "id": "274e7b2b-f7fb-4cbd-af83-e4dd2fcfd713"
      },
      "source": [
        "# tokenize and encode sequences in the test set\n",
        "tokens_test = tokenizer.batch_encode_plus(\n",
        "    test_age_df['text'].tolist(),\n",
        "    max_length = 25,\n",
        "    padding='max_length',\n",
        "    truncation=True,\n",
        "\n",
        ")"
      ],
      "id": "274e7b2b-f7fb-4cbd-af83-e4dd2fcfd713",
      "execution_count": 25,
      "outputs": []
    },
    {
      "cell_type": "code",
      "metadata": {
        "id": "4ed9931a-7447-4257-b068-7f019a1f0637"
      },
      "source": [
        "# Formatting Ys turn [0, 1, 2, 0, 1, 1] to [[1,0,0], [0,1,0], [0, 0, 1], ...]\n",
        "def label_y2mat(y_ls):\n",
        "    y_mat = np.zeros((len(y_ls), 3))\n",
        "\n",
        "    for idx, v in enumerate(y_ls):\n",
        "        v = int(v)\n",
        "        y_mat[idx][v] = 1\n",
        "\n",
        "    return y_mat"
      ],
      "id": "4ed9931a-7447-4257-b068-7f019a1f0637",
      "execution_count": 26,
      "outputs": []
    },
    {
      "cell_type": "code",
      "metadata": {
        "id": "f2ab1d47-e1b4-4834-94cb-aa7c7362d45a",
        "tags": []
      },
      "source": [
        "## convert lists to tensors\n",
        "train_seq = torch.tensor(tokens_train['input_ids'])\n",
        "train_mask = torch.tensor(tokens_train['attention_mask'])\n",
        "train_y = torch.tensor(y_train.tolist())\n",
        "val_seq = torch.tensor(tokens_val['input_ids'])\n",
        "val_mask = torch.tensor(tokens_val['attention_mask'])\n",
        "val_y = torch.tensor(y_val.tolist())\n",
        "test_seq = torch.tensor(tokens_test['input_ids'])\n",
        "test_mask = torch.tensor(tokens_test['attention_mask'])\n",
        "test_y = torch.tensor(test_age_df['label'].tolist())"
      ],
      "id": "f2ab1d47-e1b4-4834-94cb-aa7c7362d45a",
      "execution_count": 27,
      "outputs": []
    },
    {
      "cell_type": "code",
      "metadata": {
        "id": "03ba81b2-46b9-4814-b796-5855444c96a6"
      },
      "source": [
        "from torch.utils.data import TensorDataset, DataLoader, RandomSampler, SequentialSampler\n",
        "#define a batch size\n",
        "batch_size = 32\n",
        "# wrap tensors\n",
        "train_data = TensorDataset(train_seq, train_mask, train_y)\n",
        "# sampler for sampling the data during training\n",
        "train_sampler = RandomSampler(train_data)\n",
        "# dataLoader for train set\n",
        "train_dataloader = DataLoader(train_data, sampler=train_sampler, batch_size=batch_size)\n",
        "# wrap tensors\n",
        "val_data = TensorDataset(val_seq, val_mask, val_y)\n",
        "# sampler for sampling the data during training\n",
        "val_sampler = SequentialSampler(val_data)\n",
        "# dataLoader for validation set\n",
        "val_dataloader = DataLoader(val_data, sampler = val_sampler, batch_size=batch_size)"
      ],
      "id": "03ba81b2-46b9-4814-b796-5855444c96a6",
      "execution_count": 28,
      "outputs": []
    },
    {
      "cell_type": "code",
      "metadata": {
        "id": "eb754835-3b2d-4f39-95ad-31320390be8a"
      },
      "source": [
        "class BERT_Arch(nn.Module):\n",
        "    def __init__(self, bert, n_classes: int,):\n",
        "        super(BERT_Arch, self).__init__()\n",
        "        self.bert = bert \n",
        "        # dropout layer\n",
        "        self.dropout = nn.Dropout(0.5)\n",
        "        self.fc1 = nn.Linear(768, self.bert.config.hidden_size)\n",
        "        self.out = nn.Linear(self.bert.config.hidden_size, n_classes)\n",
        "        #softmax activation function\n",
        "        self.softmax = nn.LogSoftmax(dim=1)\n",
        "        self.criterion = nn.NLLLoss(weight=weights) \n",
        "\n",
        "        \n",
        "        \n",
        "    # define the forward pass    \n",
        "    def forward(self, sent_id, mask, labels = None):\n",
        "        _, cls_hs = self.bert(sent_id, attention_mask=mask)\n",
        "        x = self.fc1(cls_hs)\n",
        "        x = self.dropout(x)\n",
        "        x = self.out(x)\n",
        "        x = self.softmax(x)\n",
        "        return x\n"
      ],
      "id": "eb754835-3b2d-4f39-95ad-31320390be8a",
      "execution_count": 29,
      "outputs": []
    },
    {
      "cell_type": "code",
      "metadata": {
        "colab": {
          "base_uri": "https://localhost:8080/"
        },
        "id": "635ae0fe-b3fa-47ff-bea0-e3fbf696778a",
        "outputId": "30a428d5-342f-4e32-e132-5d2590078a08"
      },
      "source": [
        "from sklearn.utils.class_weight import compute_class_weight\n",
        "#compute the class weights\n",
        "class_weights = compute_class_weight('balanced', classes=np.unique(y_train), y = y_train)\n",
        "print(\"Class Weights:\",class_weights)\n"
      ],
      "id": "635ae0fe-b3fa-47ff-bea0-e3fbf696778a",
      "execution_count": 31,
      "outputs": [
        {
          "output_type": "stream",
          "name": "stdout",
          "text": [
            "Class Weights: [1.5  0.75]\n"
          ]
        }
      ]
    },
    {
      "cell_type": "code",
      "metadata": {
        "id": "72496880-3af4-4a6d-8318-9653a208dacc"
      },
      "source": [
        "# converting list of class weights to a tensor\n",
        "weights= torch.tensor(class_weights,dtype=torch.float)\n",
        "\n",
        "# number of training epochs\n",
        "epochs = 8"
      ],
      "id": "72496880-3af4-4a6d-8318-9653a208dacc",
      "execution_count": 32,
      "outputs": []
    },
    {
      "cell_type": "code",
      "metadata": {
        "id": "829e2783-022f-4dfd-97cd-6167b44caf28"
      },
      "source": [
        "# pass the pre-trained BERT to our define architecture\n",
        "model = BERT_Arch(bert, 2)\n",
        "# push the model to GPU\n",
        "device = torch.device(\"cuda:0\" if torch.cuda.is_available() else \"cpu\")\n",
        "model = model.to(device)"
      ],
      "id": "829e2783-022f-4dfd-97cd-6167b44caf28",
      "execution_count": 33,
      "outputs": []
    },
    {
      "cell_type": "code",
      "metadata": {
        "id": "6170f61b-4e63-4c5a-bedf-4a0280084f9b"
      },
      "source": [
        "# optimizer from hugging face transformers\n",
        "from transformers import AdamW\n",
        "# define the optimizer\n",
        "optimizer = AdamW(model.parameters(),\n",
        "lr = 1e-5)          # learning rate"
      ],
      "id": "6170f61b-4e63-4c5a-bedf-4a0280084f9b",
      "execution_count": 34,
      "outputs": []
    },
    {
      "cell_type": "code",
      "metadata": {
        "id": "1faea478-2eb7-454d-80a7-b112214d36e1"
      },
      "source": [
        "# function to train the model\n",
        "def train():\n",
        "    model.train()\n",
        "    total_loss, total_accuracy = 0, 0\n",
        "    # empty list to save model predictions\n",
        "    total_preds=[]\n",
        "    # iterate over batches\n",
        "    for step,batch in enumerate(train_dataloader):\n",
        "        # progress update after every 50 batches.\n",
        "        if step % 50 == 0 and not step == 0:\n",
        "            print('  Batch {:>5,}  of  {:>5,}.'.format(step, len(train_dataloader)))\n",
        "        \n",
        "        # push the batch to gpu\n",
        "        batch = [r.to(device) for r in batch]\n",
        "        sent_id, mask, labels = batch\n",
        "        # clear previously calculated gradients \n",
        "        model.zero_grad()        \n",
        "        \n",
        "        # get model predictions for the current batch\n",
        "        preds = model(sent_id, mask)\n",
        "        # compute the loss between actual and predicted values\n",
        "        loss = model.criterion(preds, labels)\n",
        "\n",
        "        # add on to the total loss\n",
        "        total_loss += loss.item()\n",
        "        \n",
        "        # backward pass to calculate the gradients\n",
        "        loss.backward()\n",
        "        \n",
        "        # clip the the gradients to 1.0. It helps in preventing the exploding gradient problem\n",
        "        torch.nn.utils.clip_grad_norm_(model.parameters(), 1.0)\n",
        "        # update parameters\n",
        "        optimizer.step()\n",
        "        # model predictions are stored on GPU. So, push it to CPU\n",
        "        preds=preds.detach().cpu().numpy()\n",
        "        # append the model predictions\n",
        "        total_preds.append(preds)\n",
        "        \n",
        "        \n",
        "    # compute the training loss of the epoch\n",
        "    avg_loss = total_loss / len(train_dataloader)\n",
        "    # predictions are in the form of (no. of batches, size of batch, no. of classes).\n",
        "    # reshape the predictions in form of (number of samples, no. of classes)\n",
        "    total_preds  = np.concatenate(total_preds, axis=0)\n",
        "    #returns the loss and predictions\n",
        "    return avg_loss, total_preds"
      ],
      "id": "1faea478-2eb7-454d-80a7-b112214d36e1",
      "execution_count": 35,
      "outputs": []
    },
    {
      "cell_type": "code",
      "metadata": {
        "id": "a2673216-479f-493a-ad75-87c620cd649c"
      },
      "source": [
        "# function for evaluating the model\n",
        "def evaluate():\n",
        "    print(\"\\nEvaluating...\")\n",
        "    # deactivate dropout layers\n",
        "    model.eval()\n",
        "    total_loss, total_accuracy = 0, 0\n",
        "    # empty list to save the model predictions\n",
        "    total_preds = []\n",
        "    # iterate over batches\n",
        "    for step,batch in enumerate(val_dataloader):\n",
        "        # Progress update every 50 batches.\n",
        "        if step % 50 == 0 and not step == 0:\n",
        "            # Calculate elapsed time in minutes.\n",
        "            #elapsed = format_time(time.time() - t0)\n",
        "            # Report progress.\n",
        "            print('  Batch {:>5,}  of  {:>5,}.'.format(step, len(val_dataloader)))\n",
        "        # push the batch to gpu\n",
        "        batch = [t.to(device) for t in batch]\n",
        "        sent_id, mask, labels = batch\n",
        "        # deactivate autograd\n",
        "        with torch.no_grad():\n",
        "            # model predictions\n",
        "            preds = model(sent_id, mask)\n",
        "            # compute the validation loss between actual and predicted values\n",
        "            loss = model.criterion(preds,labels)\n",
        "            total_loss += loss.item()\n",
        "            preds = preds.detach().cpu().numpy()\n",
        "            total_preds.append(preds)\n",
        "        \n",
        "    # compute the validation loss of the epoch\n",
        "    avg_loss = total_loss / len(val_dataloader) \n",
        "    # reshape the predictions in form of (number of samples, no. of classes)\n",
        "    total_preds  = np.concatenate(total_preds, axis=0)\n",
        "    return avg_loss, total_preds"
      ],
      "id": "a2673216-479f-493a-ad75-87c620cd649c",
      "execution_count": 36,
      "outputs": []
    },
    {
      "cell_type": "code",
      "metadata": {
        "colab": {
          "base_uri": "https://localhost:8080/"
        },
        "id": "7ef8cbe3-b233-46a2-b518-77e5b3944521",
        "outputId": "d9f7890d-bb06-48a0-a6f0-0326b0c23fe2"
      },
      "source": [
        "# set initial loss to infinite\n",
        "best_valid_loss = float('inf')\n",
        "# empty lists to store training and validation loss of each epoch\n",
        "train_losses=[]\n",
        "valid_losses=[]\n",
        "\n",
        "#for each epoch\n",
        "for epoch in range(epochs):\n",
        "     \n",
        "    print('\\n Epoch {:} / {:}'.format(epoch + 1, epochs))\n",
        "    \n",
        "    #train model\n",
        "    train_loss, _ = train()\n",
        "    \n",
        "    #evaluate model\n",
        "    valid_loss, _ = evaluate()\n",
        "    \n",
        "    #save the best model\n",
        "    if valid_loss < best_valid_loss:\n",
        "        best_valid_loss = valid_loss\n",
        "        torch.save(model.state_dict(), 'saved_weights.pt')\n",
        "    \n",
        "    # append training and validation loss\n",
        "    train_losses.append(train_loss)\n",
        "    valid_losses.append(valid_loss)\n",
        "    \n",
        "    print(f'\\nTraining Loss: {train_loss:.3f}')\n",
        "    print(f'Validation Loss: {valid_loss:.3f}')"
      ],
      "id": "7ef8cbe3-b233-46a2-b518-77e5b3944521",
      "execution_count": 37,
      "outputs": [
        {
          "output_type": "stream",
          "name": "stdout",
          "text": [
            "\n",
            " Epoch 1 / 8\n",
            "  Batch    50  of    657.\n",
            "  Batch   100  of    657.\n",
            "  Batch   150  of    657.\n",
            "  Batch   200  of    657.\n",
            "  Batch   250  of    657.\n",
            "  Batch   300  of    657.\n",
            "  Batch   350  of    657.\n",
            "  Batch   400  of    657.\n",
            "  Batch   450  of    657.\n",
            "  Batch   500  of    657.\n",
            "  Batch   550  of    657.\n",
            "  Batch   600  of    657.\n",
            "  Batch   650  of    657.\n",
            "\n",
            "Evaluating...\n",
            "  Batch    50  of    282.\n",
            "  Batch   100  of    282.\n",
            "  Batch   150  of    282.\n",
            "  Batch   200  of    282.\n",
            "  Batch   250  of    282.\n",
            "\n",
            "Training Loss: 0.698\n",
            "Validation Loss: 0.687\n",
            "\n",
            " Epoch 2 / 8\n",
            "  Batch    50  of    657.\n",
            "  Batch   100  of    657.\n",
            "  Batch   150  of    657.\n",
            "  Batch   200  of    657.\n",
            "  Batch   250  of    657.\n",
            "  Batch   300  of    657.\n",
            "  Batch   350  of    657.\n",
            "  Batch   400  of    657.\n",
            "  Batch   450  of    657.\n",
            "  Batch   500  of    657.\n",
            "  Batch   550  of    657.\n",
            "  Batch   600  of    657.\n",
            "  Batch   650  of    657.\n",
            "\n",
            "Evaluating...\n",
            "  Batch    50  of    282.\n",
            "  Batch   100  of    282.\n",
            "  Batch   150  of    282.\n",
            "  Batch   200  of    282.\n",
            "  Batch   250  of    282.\n",
            "\n",
            "Training Loss: 0.678\n",
            "Validation Loss: 0.687\n",
            "\n",
            " Epoch 3 / 8\n",
            "  Batch    50  of    657.\n",
            "  Batch   100  of    657.\n",
            "  Batch   150  of    657.\n",
            "  Batch   200  of    657.\n",
            "  Batch   250  of    657.\n",
            "  Batch   300  of    657.\n",
            "  Batch   350  of    657.\n",
            "  Batch   400  of    657.\n",
            "  Batch   450  of    657.\n",
            "  Batch   500  of    657.\n",
            "  Batch   550  of    657.\n",
            "  Batch   600  of    657.\n",
            "  Batch   650  of    657.\n",
            "\n",
            "Evaluating...\n",
            "  Batch    50  of    282.\n",
            "  Batch   100  of    282.\n",
            "  Batch   150  of    282.\n",
            "  Batch   200  of    282.\n",
            "  Batch   250  of    282.\n",
            "\n",
            "Training Loss: 0.628\n",
            "Validation Loss: 0.720\n",
            "\n",
            " Epoch 4 / 8\n",
            "  Batch    50  of    657.\n",
            "  Batch   100  of    657.\n",
            "  Batch   150  of    657.\n",
            "  Batch   200  of    657.\n",
            "  Batch   250  of    657.\n",
            "  Batch   300  of    657.\n",
            "  Batch   350  of    657.\n",
            "  Batch   400  of    657.\n",
            "  Batch   450  of    657.\n",
            "  Batch   500  of    657.\n",
            "  Batch   550  of    657.\n",
            "  Batch   600  of    657.\n",
            "  Batch   650  of    657.\n",
            "\n",
            "Evaluating...\n",
            "  Batch    50  of    282.\n",
            "  Batch   100  of    282.\n",
            "  Batch   150  of    282.\n",
            "  Batch   200  of    282.\n",
            "  Batch   250  of    282.\n",
            "\n",
            "Training Loss: 0.521\n",
            "Validation Loss: 0.893\n",
            "\n",
            " Epoch 5 / 8\n",
            "  Batch    50  of    657.\n",
            "  Batch   100  of    657.\n",
            "  Batch   150  of    657.\n",
            "  Batch   200  of    657.\n",
            "  Batch   250  of    657.\n",
            "  Batch   300  of    657.\n",
            "  Batch   350  of    657.\n",
            "  Batch   400  of    657.\n",
            "  Batch   450  of    657.\n",
            "  Batch   500  of    657.\n",
            "  Batch   550  of    657.\n",
            "  Batch   600  of    657.\n",
            "  Batch   650  of    657.\n",
            "\n",
            "Evaluating...\n",
            "  Batch    50  of    282.\n",
            "  Batch   100  of    282.\n",
            "  Batch   150  of    282.\n",
            "  Batch   200  of    282.\n",
            "  Batch   250  of    282.\n",
            "\n",
            "Training Loss: 0.397\n",
            "Validation Loss: 1.009\n",
            "\n",
            " Epoch 6 / 8\n",
            "  Batch    50  of    657.\n",
            "  Batch   100  of    657.\n",
            "  Batch   150  of    657.\n",
            "  Batch   200  of    657.\n",
            "  Batch   250  of    657.\n",
            "  Batch   300  of    657.\n",
            "  Batch   350  of    657.\n",
            "  Batch   400  of    657.\n",
            "  Batch   450  of    657.\n",
            "  Batch   500  of    657.\n",
            "  Batch   550  of    657.\n",
            "  Batch   600  of    657.\n",
            "  Batch   650  of    657.\n",
            "\n",
            "Evaluating...\n",
            "  Batch    50  of    282.\n",
            "  Batch   100  of    282.\n",
            "  Batch   150  of    282.\n",
            "  Batch   200  of    282.\n",
            "  Batch   250  of    282.\n",
            "\n",
            "Training Loss: 0.307\n",
            "Validation Loss: 1.324\n",
            "\n",
            " Epoch 7 / 8\n",
            "  Batch    50  of    657.\n",
            "  Batch   100  of    657.\n",
            "  Batch   150  of    657.\n",
            "  Batch   200  of    657.\n",
            "  Batch   250  of    657.\n",
            "  Batch   300  of    657.\n",
            "  Batch   350  of    657.\n",
            "  Batch   400  of    657.\n",
            "  Batch   450  of    657.\n",
            "  Batch   500  of    657.\n",
            "  Batch   550  of    657.\n",
            "  Batch   600  of    657.\n",
            "  Batch   650  of    657.\n",
            "\n",
            "Evaluating...\n",
            "  Batch    50  of    282.\n",
            "  Batch   100  of    282.\n",
            "  Batch   150  of    282.\n",
            "  Batch   200  of    282.\n",
            "  Batch   250  of    282.\n",
            "\n",
            "Training Loss: 0.241\n",
            "Validation Loss: 1.718\n",
            "\n",
            " Epoch 8 / 8\n",
            "  Batch    50  of    657.\n",
            "  Batch   100  of    657.\n",
            "  Batch   150  of    657.\n",
            "  Batch   200  of    657.\n",
            "  Batch   250  of    657.\n",
            "  Batch   300  of    657.\n",
            "  Batch   350  of    657.\n",
            "  Batch   400  of    657.\n",
            "  Batch   450  of    657.\n",
            "  Batch   500  of    657.\n",
            "  Batch   550  of    657.\n",
            "  Batch   600  of    657.\n",
            "  Batch   650  of    657.\n",
            "\n",
            "Evaluating...\n",
            "  Batch    50  of    282.\n",
            "  Batch   100  of    282.\n",
            "  Batch   150  of    282.\n",
            "  Batch   200  of    282.\n",
            "  Batch   250  of    282.\n",
            "\n",
            "Training Loss: 0.200\n",
            "Validation Loss: 1.637\n"
          ]
        }
      ]
    },
    {
      "cell_type": "code",
      "metadata": {
        "colab": {
          "base_uri": "https://localhost:8080/"
        },
        "id": "00f8d0e9-a8b7-46ef-ae1f-94254cc87611",
        "outputId": "4fa33a42-2e52-4e5b-8c81-708bbc0a513f"
      },
      "source": [
        "#load weights of best model\n",
        "path = 'saved_weights.pt'\n",
        "model.load_state_dict(torch.load(path))\n",
        "\n",
        "# get predictions for test data\n",
        "with torch.no_grad():\n",
        "  preds = model(test_seq.to(device), test_mask.to(device))\n",
        "  preds = preds.detach().cpu().numpy()\n",
        "\n",
        "# model's performance\n",
        "preds = np.argmax(preds, axis = 1)\n",
        "print(classification_report(test_y, preds))"
      ],
      "id": "00f8d0e9-a8b7-46ef-ae1f-94254cc87611",
      "execution_count": 39,
      "outputs": [
        {
          "output_type": "stream",
          "name": "stdout",
          "text": [
            "              precision    recall  f1-score   support\n",
            "\n",
            "           0       0.55      0.71      0.62      5000\n",
            "           1       0.59      0.42      0.49      5000\n",
            "\n",
            "    accuracy                           0.56     10000\n",
            "   macro avg       0.57      0.56      0.56     10000\n",
            "weighted avg       0.57      0.56      0.56     10000\n",
            "\n"
          ]
        }
      ]
    }
  ]
}