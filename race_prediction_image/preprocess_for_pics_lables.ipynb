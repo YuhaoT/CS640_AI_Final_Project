{
 "cells": [
  {
   "cell_type": "code",
   "execution_count": 116,
   "metadata": {},
   "outputs": [],
   "source": [
    "import pandas as pd\n",
    "from os.path import exists"
   ]
  },
  {
   "cell_type": "code",
   "execution_count": 117,
   "metadata": {},
   "outputs": [],
   "source": [
    "labeled_users = './data/labeled_users.csv'\n",
    "user_demo_profiles_path = './data/User demo profiles.json'\n",
    "\n",
    "df_users = pd.read_csv(labeled_users)\n",
    "df_profiles = pd.read_json(user_demo_profiles_path, orient='values')"
   ]
  },
  {
   "cell_type": "code",
   "execution_count": 118,
   "metadata": {},
   "outputs": [
    {
     "data": {
      "text/html": [
       "<div>\n",
       "<style scoped>\n",
       "    .dataframe tbody tr th:only-of-type {\n",
       "        vertical-align: middle;\n",
       "    }\n",
       "\n",
       "    .dataframe tbody tr th {\n",
       "        vertical-align: top;\n",
       "    }\n",
       "\n",
       "    .dataframe thead th {\n",
       "        text-align: right;\n",
       "    }\n",
       "</style>\n",
       "<table border=\"1\" class=\"dataframe\">\n",
       "  <thead>\n",
       "    <tr style=\"text-align: right;\">\n",
       "      <th></th>\n",
       "      <th>id</th>\n",
       "      <th>race</th>\n",
       "    </tr>\n",
       "  </thead>\n",
       "  <tbody>\n",
       "    <tr>\n",
       "      <th>0</th>\n",
       "      <td>12488.0</td>\n",
       "      <td>4.0</td>\n",
       "    </tr>\n",
       "    <tr>\n",
       "      <th>1</th>\n",
       "      <td>719703.0</td>\n",
       "      <td>4.0</td>\n",
       "    </tr>\n",
       "    <tr>\n",
       "      <th>2</th>\n",
       "      <td>722153.0</td>\n",
       "      <td>3.0</td>\n",
       "    </tr>\n",
       "    <tr>\n",
       "      <th>3</th>\n",
       "      <td>749003.0</td>\n",
       "      <td>5.0</td>\n",
       "    </tr>\n",
       "    <tr>\n",
       "      <th>4</th>\n",
       "      <td>755531.0</td>\n",
       "      <td>4.0</td>\n",
       "    </tr>\n",
       "  </tbody>\n",
       "</table>\n",
       "</div>"
      ],
      "text/plain": [
       "         id  race\n",
       "0   12488.0   4.0\n",
       "1  719703.0   4.0\n",
       "2  722153.0   3.0\n",
       "3  749003.0   5.0\n",
       "4  755531.0   4.0"
      ]
     },
     "execution_count": 118,
     "metadata": {},
     "output_type": "execute_result"
    }
   ],
   "source": [
    "df_users = df_users.drop(['is_female','year_born'],axis = 1)\n",
    "df_users = df_users.rename(columns={\"user_id\":\"id\",\"race\":\"race\"})\n",
    "df_users.head()"
   ]
  },
  {
   "cell_type": "code",
   "execution_count": 119,
   "metadata": {},
   "outputs": [
    {
     "data": {
      "text/html": [
       "<div>\n",
       "<style scoped>\n",
       "    .dataframe tbody tr th:only-of-type {\n",
       "        vertical-align: middle;\n",
       "    }\n",
       "\n",
       "    .dataframe tbody tr th {\n",
       "        vertical-align: top;\n",
       "    }\n",
       "\n",
       "    .dataframe thead th {\n",
       "        text-align: right;\n",
       "    }\n",
       "</style>\n",
       "<table border=\"1\" class=\"dataframe\">\n",
       "  <thead>\n",
       "    <tr style=\"text-align: right;\">\n",
       "      <th></th>\n",
       "      <th>id</th>\n",
       "      <th>img_path</th>\n",
       "    </tr>\n",
       "  </thead>\n",
       "  <tbody>\n",
       "    <tr>\n",
       "      <th>0</th>\n",
       "      <td>12488</td>\n",
       "      <td>profile pics/60147.jpeg</td>\n",
       "    </tr>\n",
       "    <tr>\n",
       "      <th>1</th>\n",
       "      <td>719703</td>\n",
       "      <td>profile pics/60148.jpeg</td>\n",
       "    </tr>\n",
       "    <tr>\n",
       "      <th>2</th>\n",
       "      <td>722153</td>\n",
       "      <td>profile pics/60149.jpeg</td>\n",
       "    </tr>\n",
       "    <tr>\n",
       "      <th>3</th>\n",
       "      <td>749003</td>\n",
       "      <td>profile pics/60150.jpeg</td>\n",
       "    </tr>\n",
       "    <tr>\n",
       "      <th>4</th>\n",
       "      <td>1896301728</td>\n",
       "      <td>profile pics/60151.jpeg</td>\n",
       "    </tr>\n",
       "  </tbody>\n",
       "</table>\n",
       "</div>"
      ],
      "text/plain": [
       "           id                 img_path\n",
       "0       12488  profile pics/60147.jpeg\n",
       "1      719703  profile pics/60148.jpeg\n",
       "2      722153  profile pics/60149.jpeg\n",
       "3      749003  profile pics/60150.jpeg\n",
       "4  1896301728  profile pics/60151.jpeg"
      ]
     },
     "execution_count": 119,
     "metadata": {},
     "output_type": "execute_result"
    }
   ],
   "source": [
    "df_profiles = df_profiles.drop(['name','screen_name','description','lang'],axis = 1)\n",
    "df_profiles.head()"
   ]
  },
  {
   "cell_type": "code",
   "execution_count": 120,
   "metadata": {},
   "outputs": [
    {
     "data": {
      "text/html": [
       "<div>\n",
       "<style scoped>\n",
       "    .dataframe tbody tr th:only-of-type {\n",
       "        vertical-align: middle;\n",
       "    }\n",
       "\n",
       "    .dataframe tbody tr th {\n",
       "        vertical-align: top;\n",
       "    }\n",
       "\n",
       "    .dataframe thead th {\n",
       "        text-align: right;\n",
       "    }\n",
       "</style>\n",
       "<table border=\"1\" class=\"dataframe\">\n",
       "  <thead>\n",
       "    <tr style=\"text-align: right;\">\n",
       "      <th></th>\n",
       "      <th>id</th>\n",
       "      <th>race</th>\n",
       "      <th>img_path</th>\n",
       "    </tr>\n",
       "  </thead>\n",
       "  <tbody>\n",
       "    <tr>\n",
       "      <th>0</th>\n",
       "      <td>12488.0</td>\n",
       "      <td>4.0</td>\n",
       "      <td>./data/profile pics/60147.jpeg</td>\n",
       "    </tr>\n",
       "    <tr>\n",
       "      <th>1</th>\n",
       "      <td>719703.0</td>\n",
       "      <td>4.0</td>\n",
       "      <td>./data/profile pics/60148.jpeg</td>\n",
       "    </tr>\n",
       "    <tr>\n",
       "      <th>2</th>\n",
       "      <td>722153.0</td>\n",
       "      <td>3.0</td>\n",
       "      <td>./data/profile pics/60149.jpeg</td>\n",
       "    </tr>\n",
       "    <tr>\n",
       "      <th>3</th>\n",
       "      <td>749003.0</td>\n",
       "      <td>5.0</td>\n",
       "      <td>./data/profile pics/60150.jpeg</td>\n",
       "    </tr>\n",
       "    <tr>\n",
       "      <th>5</th>\n",
       "      <td>811618.0</td>\n",
       "      <td>3.0</td>\n",
       "      <td>./data/profile pics/60152.jpeg</td>\n",
       "    </tr>\n",
       "  </tbody>\n",
       "</table>\n",
       "</div>"
      ],
      "text/plain": [
       "         id  race                        img_path\n",
       "0   12488.0   4.0  ./data/profile pics/60147.jpeg\n",
       "1  719703.0   4.0  ./data/profile pics/60148.jpeg\n",
       "2  722153.0   3.0  ./data/profile pics/60149.jpeg\n",
       "3  749003.0   5.0  ./data/profile pics/60150.jpeg\n",
       "5  811618.0   3.0  ./data/profile pics/60152.jpeg"
      ]
     },
     "execution_count": 120,
     "metadata": {},
     "output_type": "execute_result"
    }
   ],
   "source": [
    "data = df_users.join(df_profiles.set_index('id'), on='id')\n",
    "data = data.dropna()\n",
    "data['img_path'] = './data/' + data['img_path']\n",
    "data.head()"
   ]
  },
  {
   "cell_type": "code",
   "execution_count": 121,
   "metadata": {},
   "outputs": [
    {
     "name": "stdout",
     "output_type": "stream",
     "text": [
      "(3572, 3)\n",
      "(3487, 3)\n"
     ]
    }
   ],
   "source": [
    "print(data.shape)\n",
    "to_drop = []\n",
    "for i, row in enumerate(data.iterrows()):\n",
    "    index, row = row\n",
    "    path = row['img_path']\n",
    "    if not exists(path):\n",
    "        to_drop.append(index)\n",
    "data = data.drop(to_drop)\n",
    "print(data.shape)"
   ]
  }
 ],
 "metadata": {
  "interpreter": {
   "hash": "0f75978233c496711d8b6fbaac206609b5c6c1b124626415f694fad520d3d3bd"
  },
  "kernelspec": {
   "display_name": "Python 3 (ipykernel)",
   "language": "python",
   "name": "python3"
  },
  "language_info": {
   "codemirror_mode": {
    "name": "ipython",
    "version": 3
   },
   "file_extension": ".py",
   "mimetype": "text/x-python",
   "name": "python",
   "nbconvert_exporter": "python",
   "pygments_lexer": "ipython3",
   "version": "3.7.6"
  }
 },
 "nbformat": 4,
 "nbformat_minor": 4
}
