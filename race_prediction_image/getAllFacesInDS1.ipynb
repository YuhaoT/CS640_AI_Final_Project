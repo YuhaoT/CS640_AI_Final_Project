{
 "cells": [
  {
   "cell_type": "markdown",
   "metadata": {},
   "source": [
    "# Import Library"
   ]
  },
  {
   "cell_type": "code",
   "execution_count": 1,
   "metadata": {},
   "outputs": [],
   "source": [
    "import pandas as pd\n",
    "import torch\n",
    "from os.path import exists\n",
    "from facenet_pytorch import MTCNN, extract_face\n",
    "from PIL import Image, ImageDraw"
   ]
  },
  {
   "cell_type": "markdown",
   "metadata": {},
   "source": [
    "# Import CSV files and Prepross"
   ]
  },
  {
   "cell_type": "code",
   "execution_count": 2,
   "metadata": {},
   "outputs": [],
   "source": [
    "labeled_users = './data/labeled_users.csv'\n",
    "user_demo_profiles_path = './data/User demo profiles.json'\n",
    "\n",
    "df_users = pd.read_csv(labeled_users)\n",
    "df_profiles = pd.read_json(user_demo_profiles_path, orient='values')"
   ]
  },
  {
   "cell_type": "code",
   "execution_count": 3,
   "metadata": {},
   "outputs": [
    {
     "data": {
      "text/html": [
       "<div>\n",
       "<style scoped>\n",
       "    .dataframe tbody tr th:only-of-type {\n",
       "        vertical-align: middle;\n",
       "    }\n",
       "\n",
       "    .dataframe tbody tr th {\n",
       "        vertical-align: top;\n",
       "    }\n",
       "\n",
       "    .dataframe thead th {\n",
       "        text-align: right;\n",
       "    }\n",
       "</style>\n",
       "<table border=\"1\" class=\"dataframe\">\n",
       "  <thead>\n",
       "    <tr style=\"text-align: right;\">\n",
       "      <th></th>\n",
       "      <th>id</th>\n",
       "      <th>race</th>\n",
       "    </tr>\n",
       "  </thead>\n",
       "  <tbody>\n",
       "    <tr>\n",
       "      <th>0</th>\n",
       "      <td>12488.0</td>\n",
       "      <td>4.0</td>\n",
       "    </tr>\n",
       "    <tr>\n",
       "      <th>1</th>\n",
       "      <td>719703.0</td>\n",
       "      <td>4.0</td>\n",
       "    </tr>\n",
       "    <tr>\n",
       "      <th>2</th>\n",
       "      <td>722153.0</td>\n",
       "      <td>3.0</td>\n",
       "    </tr>\n",
       "    <tr>\n",
       "      <th>3</th>\n",
       "      <td>749003.0</td>\n",
       "      <td>5.0</td>\n",
       "    </tr>\n",
       "    <tr>\n",
       "      <th>4</th>\n",
       "      <td>755531.0</td>\n",
       "      <td>4.0</td>\n",
       "    </tr>\n",
       "  </tbody>\n",
       "</table>\n",
       "</div>"
      ],
      "text/plain": [
       "         id  race\n",
       "0   12488.0   4.0\n",
       "1  719703.0   4.0\n",
       "2  722153.0   3.0\n",
       "3  749003.0   5.0\n",
       "4  755531.0   4.0"
      ]
     },
     "execution_count": 3,
     "metadata": {},
     "output_type": "execute_result"
    }
   ],
   "source": [
    "df_users = df_users.drop(['is_female','year_born'],axis = 1)\n",
    "df_users = df_users.rename(columns={\"user_id\":\"id\",\"race\":\"race\"})\n",
    "df_users.head()"
   ]
  },
  {
   "cell_type": "code",
   "execution_count": 4,
   "metadata": {},
   "outputs": [
    {
     "data": {
      "text/html": [
       "<div>\n",
       "<style scoped>\n",
       "    .dataframe tbody tr th:only-of-type {\n",
       "        vertical-align: middle;\n",
       "    }\n",
       "\n",
       "    .dataframe tbody tr th {\n",
       "        vertical-align: top;\n",
       "    }\n",
       "\n",
       "    .dataframe thead th {\n",
       "        text-align: right;\n",
       "    }\n",
       "</style>\n",
       "<table border=\"1\" class=\"dataframe\">\n",
       "  <thead>\n",
       "    <tr style=\"text-align: right;\">\n",
       "      <th></th>\n",
       "      <th>id</th>\n",
       "      <th>img_path</th>\n",
       "    </tr>\n",
       "  </thead>\n",
       "  <tbody>\n",
       "    <tr>\n",
       "      <th>0</th>\n",
       "      <td>12488</td>\n",
       "      <td>profile pics/60147.jpeg</td>\n",
       "    </tr>\n",
       "    <tr>\n",
       "      <th>1</th>\n",
       "      <td>719703</td>\n",
       "      <td>profile pics/60148.jpeg</td>\n",
       "    </tr>\n",
       "    <tr>\n",
       "      <th>2</th>\n",
       "      <td>722153</td>\n",
       "      <td>profile pics/60149.jpeg</td>\n",
       "    </tr>\n",
       "    <tr>\n",
       "      <th>3</th>\n",
       "      <td>749003</td>\n",
       "      <td>profile pics/60150.jpeg</td>\n",
       "    </tr>\n",
       "    <tr>\n",
       "      <th>4</th>\n",
       "      <td>1896301728</td>\n",
       "      <td>profile pics/60151.jpeg</td>\n",
       "    </tr>\n",
       "  </tbody>\n",
       "</table>\n",
       "</div>"
      ],
      "text/plain": [
       "           id                 img_path\n",
       "0       12488  profile pics/60147.jpeg\n",
       "1      719703  profile pics/60148.jpeg\n",
       "2      722153  profile pics/60149.jpeg\n",
       "3      749003  profile pics/60150.jpeg\n",
       "4  1896301728  profile pics/60151.jpeg"
      ]
     },
     "execution_count": 4,
     "metadata": {},
     "output_type": "execute_result"
    }
   ],
   "source": [
    "df_profiles = df_profiles.drop(['name','screen_name','description','lang'],axis = 1)\n",
    "df_profiles.head()"
   ]
  },
  {
   "cell_type": "code",
   "execution_count": 6,
   "metadata": {},
   "outputs": [
    {
     "data": {
      "text/html": [
       "<div>\n",
       "<style scoped>\n",
       "    .dataframe tbody tr th:only-of-type {\n",
       "        vertical-align: middle;\n",
       "    }\n",
       "\n",
       "    .dataframe tbody tr th {\n",
       "        vertical-align: top;\n",
       "    }\n",
       "\n",
       "    .dataframe thead th {\n",
       "        text-align: right;\n",
       "    }\n",
       "</style>\n",
       "<table border=\"1\" class=\"dataframe\">\n",
       "  <thead>\n",
       "    <tr style=\"text-align: right;\">\n",
       "      <th></th>\n",
       "      <th>id</th>\n",
       "      <th>race</th>\n",
       "      <th>img_path</th>\n",
       "      <th>absolute_img_path</th>\n",
       "    </tr>\n",
       "  </thead>\n",
       "  <tbody>\n",
       "    <tr>\n",
       "      <th>0</th>\n",
       "      <td>12488.0</td>\n",
       "      <td>4.0</td>\n",
       "      <td>profile pics/60147.jpeg</td>\n",
       "      <td>./data/profile pics/60147.jpeg</td>\n",
       "    </tr>\n",
       "    <tr>\n",
       "      <th>1</th>\n",
       "      <td>719703.0</td>\n",
       "      <td>4.0</td>\n",
       "      <td>profile pics/60148.jpeg</td>\n",
       "      <td>./data/profile pics/60148.jpeg</td>\n",
       "    </tr>\n",
       "    <tr>\n",
       "      <th>2</th>\n",
       "      <td>722153.0</td>\n",
       "      <td>3.0</td>\n",
       "      <td>profile pics/60149.jpeg</td>\n",
       "      <td>./data/profile pics/60149.jpeg</td>\n",
       "    </tr>\n",
       "    <tr>\n",
       "      <th>3</th>\n",
       "      <td>749003.0</td>\n",
       "      <td>5.0</td>\n",
       "      <td>profile pics/60150.jpeg</td>\n",
       "      <td>./data/profile pics/60150.jpeg</td>\n",
       "    </tr>\n",
       "    <tr>\n",
       "      <th>5</th>\n",
       "      <td>811618.0</td>\n",
       "      <td>3.0</td>\n",
       "      <td>profile pics/60152.jpeg</td>\n",
       "      <td>./data/profile pics/60152.jpeg</td>\n",
       "    </tr>\n",
       "  </tbody>\n",
       "</table>\n",
       "</div>"
      ],
      "text/plain": [
       "         id  race                 img_path               absolute_img_path\n",
       "0   12488.0   4.0  profile pics/60147.jpeg  ./data/profile pics/60147.jpeg\n",
       "1  719703.0   4.0  profile pics/60148.jpeg  ./data/profile pics/60148.jpeg\n",
       "2  722153.0   3.0  profile pics/60149.jpeg  ./data/profile pics/60149.jpeg\n",
       "3  749003.0   5.0  profile pics/60150.jpeg  ./data/profile pics/60150.jpeg\n",
       "5  811618.0   3.0  profile pics/60152.jpeg  ./data/profile pics/60152.jpeg"
      ]
     },
     "execution_count": 6,
     "metadata": {},
     "output_type": "execute_result"
    }
   ],
   "source": [
    "data = df_users.join(df_profiles.set_index('id'), on='id')\n",
    "data = data.dropna()\n",
    "data['absolute_img_path'] = './data/' + data['img_path']\n",
    "data.head()"
   ]
  },
  {
   "cell_type": "code",
   "execution_count": 8,
   "metadata": {},
   "outputs": [
    {
     "data": {
      "text/html": [
       "<div>\n",
       "<style scoped>\n",
       "    .dataframe tbody tr th:only-of-type {\n",
       "        vertical-align: middle;\n",
       "    }\n",
       "\n",
       "    .dataframe tbody tr th {\n",
       "        vertical-align: top;\n",
       "    }\n",
       "\n",
       "    .dataframe thead th {\n",
       "        text-align: right;\n",
       "    }\n",
       "</style>\n",
       "<table border=\"1\" class=\"dataframe\">\n",
       "  <thead>\n",
       "    <tr style=\"text-align: right;\">\n",
       "      <th></th>\n",
       "      <th>id</th>\n",
       "      <th>race</th>\n",
       "      <th>img_path</th>\n",
       "      <th>absolute_img_path</th>\n",
       "      <th>cropped_path</th>\n",
       "    </tr>\n",
       "  </thead>\n",
       "  <tbody>\n",
       "    <tr>\n",
       "      <th>0</th>\n",
       "      <td>12488.0</td>\n",
       "      <td>4.0</td>\n",
       "      <td>profile pics/60147.jpeg</td>\n",
       "      <td>./data/profile pics/60147.jpeg</td>\n",
       "      <td>./data/cropped/60147.jpeg</td>\n",
       "    </tr>\n",
       "    <tr>\n",
       "      <th>1</th>\n",
       "      <td>719703.0</td>\n",
       "      <td>4.0</td>\n",
       "      <td>profile pics/60148.jpeg</td>\n",
       "      <td>./data/profile pics/60148.jpeg</td>\n",
       "      <td>./data/cropped/60148.jpeg</td>\n",
       "    </tr>\n",
       "    <tr>\n",
       "      <th>2</th>\n",
       "      <td>722153.0</td>\n",
       "      <td>3.0</td>\n",
       "      <td>profile pics/60149.jpeg</td>\n",
       "      <td>./data/profile pics/60149.jpeg</td>\n",
       "      <td>./data/cropped/60149.jpeg</td>\n",
       "    </tr>\n",
       "    <tr>\n",
       "      <th>3</th>\n",
       "      <td>749003.0</td>\n",
       "      <td>5.0</td>\n",
       "      <td>profile pics/60150.jpeg</td>\n",
       "      <td>./data/profile pics/60150.jpeg</td>\n",
       "      <td>./data/cropped/60150.jpeg</td>\n",
       "    </tr>\n",
       "    <tr>\n",
       "      <th>5</th>\n",
       "      <td>811618.0</td>\n",
       "      <td>3.0</td>\n",
       "      <td>profile pics/60152.jpeg</td>\n",
       "      <td>./data/profile pics/60152.jpeg</td>\n",
       "      <td>./data/cropped/60152.jpeg</td>\n",
       "    </tr>\n",
       "  </tbody>\n",
       "</table>\n",
       "</div>"
      ],
      "text/plain": [
       "         id  race                 img_path               absolute_img_path  \\\n",
       "0   12488.0   4.0  profile pics/60147.jpeg  ./data/profile pics/60147.jpeg   \n",
       "1  719703.0   4.0  profile pics/60148.jpeg  ./data/profile pics/60148.jpeg   \n",
       "2  722153.0   3.0  profile pics/60149.jpeg  ./data/profile pics/60149.jpeg   \n",
       "3  749003.0   5.0  profile pics/60150.jpeg  ./data/profile pics/60150.jpeg   \n",
       "5  811618.0   3.0  profile pics/60152.jpeg  ./data/profile pics/60152.jpeg   \n",
       "\n",
       "                cropped_path  \n",
       "0  ./data/cropped/60147.jpeg  \n",
       "1  ./data/cropped/60148.jpeg  \n",
       "2  ./data/cropped/60149.jpeg  \n",
       "3  ./data/cropped/60150.jpeg  \n",
       "5  ./data/cropped/60152.jpeg  "
      ]
     },
     "execution_count": 8,
     "metadata": {},
     "output_type": "execute_result"
    }
   ],
   "source": [
    "def set_cropped_path(input):\n",
    "    return './data/cropped/' + input[13:]\n",
    "data['cropped_path'] = data['img_path'].apply(set_cropped_path)\n",
    "data.head()"
   ]
  },
  {
   "cell_type": "code",
   "execution_count": 9,
   "metadata": {},
   "outputs": [
    {
     "name": "stdout",
     "output_type": "stream",
     "text": [
      "(3572, 5)\n",
      "(3487, 5)\n"
     ]
    }
   ],
   "source": [
    "print(data.shape)\n",
    "to_drop = []\n",
    "for i, row in enumerate(data.iterrows()):\n",
    "    index, row = row\n",
    "    path = row['absolute_img_path']\n",
    "    if not exists(path):\n",
    "        to_drop.append(index)\n",
    "data = data.drop(to_drop)\n",
    "print(data.shape)"
   ]
  },
  {
   "cell_type": "markdown",
   "metadata": {},
   "source": [
    "# Import a face detection model"
   ]
  },
  {
   "cell_type": "code",
   "execution_count": 10,
   "metadata": {},
   "outputs": [],
   "source": [
    "# little test\n",
    "test_path = './data/profile pics/60152.jpeg'#data['img_path'][0]\n",
    "img = Image.open(test_path)\n",
    "img.show()"
   ]
  },
  {
   "cell_type": "code",
   "execution_count": 19,
   "metadata": {},
   "outputs": [],
   "source": [
    "# face detector\n",
    "mtcnn = MTCNN(keep_all=True,select_largest=True)\n",
    "boxes, probs, points = mtcnn.detect(img, landmarks=True)"
   ]
  },
  {
   "cell_type": "code",
   "execution_count": 20,
   "metadata": {},
   "outputs": [],
   "source": [
    "# Draw boxes and save faces\n",
    "extract = extract_face(img, boxes[0], save_path='detected_face_{}.png'.format(i))"
   ]
  },
  {
   "cell_type": "markdown",
   "metadata": {},
   "source": [
    "# Get All faces"
   ]
  },
  {
   "cell_type": "code",
   "execution_count": 23,
   "metadata": {},
   "outputs": [],
   "source": [
    "def get_all_faces(input):\n",
    "    img_path, cropped_path = input[0],input[1]\n",
    "    img = Image.open(img_path)\n",
    "    boxes, probs = mtcnn.detect(img)\n",
    "    if boxes is not None:\n",
    "        extract_face(img, boxes[0], save_path = cropped_path)"
   ]
  },
  {
   "cell_type": "code",
   "execution_count": 24,
   "metadata": {},
   "outputs": [
    {
     "data": {
      "text/plain": [
       "0       None\n",
       "1       None\n",
       "2       None\n",
       "3       None\n",
       "5       None\n",
       "        ... \n",
       "4120    None\n",
       "4121    None\n",
       "4122    None\n",
       "4123    None\n",
       "4124    None\n",
       "Length: 3487, dtype: object"
      ]
     },
     "execution_count": 24,
     "metadata": {},
     "output_type": "execute_result"
    }
   ],
   "source": [
    "data[['absolute_img_path','cropped_path']].apply(get_all_faces,axis = 1)"
   ]
  },
  {
   "cell_type": "code",
   "execution_count": 25,
   "metadata": {},
   "outputs": [],
   "source": [
    "data.to_pickle('./data.pkl')"
   ]
  }
 ],
 "metadata": {
  "interpreter": {
   "hash": "0f75978233c496711d8b6fbaac206609b5c6c1b124626415f694fad520d3d3bd"
  },
  "kernelspec": {
   "display_name": "Python 3.8.11 64-bit ('cs640': conda)",
   "language": "python",
   "name": "python3"
  },
  "language_info": {
   "codemirror_mode": {
    "name": "ipython",
    "version": 3
   },
   "file_extension": ".py",
   "mimetype": "text/x-python",
   "name": "python",
   "nbconvert_exporter": "python",
   "pygments_lexer": "ipython3",
   "version": "3.8.11"
  },
  "orig_nbformat": 4
 },
 "nbformat": 4,
 "nbformat_minor": 2
}
