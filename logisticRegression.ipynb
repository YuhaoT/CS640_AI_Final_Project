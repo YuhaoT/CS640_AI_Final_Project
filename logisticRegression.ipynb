{
 "cells": [
  {
   "cell_type": "code",
   "execution_count": 1,
   "id": "4b0b50b0-1661-42c7-ae09-19b67e2b4abd",
   "metadata": {},
   "outputs": [],
   "source": [
    "import pandas as pd\n",
    "import numpy as np\n",
    "\n",
    "import sklearn \n",
    "from sklearn.feature_extraction.text import TfidfVectorizer"
   ]
  },
  {
   "cell_type": "code",
   "execution_count": 2,
   "id": "b24d13ff-f08f-4dec-934c-a08249711198",
   "metadata": {},
   "outputs": [
    {
     "data": {
      "text/html": [
       "<div>\n",
       "<style scoped>\n",
       "    .dataframe tbody tr th:only-of-type {\n",
       "        vertical-align: middle;\n",
       "    }\n",
       "\n",
       "    .dataframe tbody tr th {\n",
       "        vertical-align: top;\n",
       "    }\n",
       "\n",
       "    .dataframe thead th {\n",
       "        text-align: right;\n",
       "    }\n",
       "</style>\n",
       "<table border=\"1\" class=\"dataframe\">\n",
       "  <thead>\n",
       "    <tr style=\"text-align: right;\">\n",
       "      <th></th>\n",
       "      <th>Unnamed: 0</th>\n",
       "      <th>user_id</th>\n",
       "      <th>all_tweets</th>\n",
       "      <th>is_female</th>\n",
       "      <th>year_born</th>\n",
       "      <th>race</th>\n",
       "      <th>age</th>\n",
       "    </tr>\n",
       "  </thead>\n",
       "  <tbody>\n",
       "    <tr>\n",
       "      <th>0</th>\n",
       "      <td>0</td>\n",
       "      <td>12488</td>\n",
       "      <td>ykar futuristic sans serif font who can contac...</td>\n",
       "      <td>0.0</td>\n",
       "      <td>1980.0</td>\n",
       "      <td>4.0</td>\n",
       "      <td>1</td>\n",
       "    </tr>\n",
       "    <tr>\n",
       "      <th>1</th>\n",
       "      <td>1</td>\n",
       "      <td>719703</td>\n",
       "      <td>other words good news about the vaccine safety...</td>\n",
       "      <td>0.0</td>\n",
       "      <td>1985.0</td>\n",
       "      <td>4.0</td>\n",
       "      <td>1</td>\n",
       "    </tr>\n",
       "    <tr>\n",
       "      <th>2</th>\n",
       "      <td>2</td>\n",
       "      <td>749003</td>\n",
       "      <td>would fair call lil nas the first successful o...</td>\n",
       "      <td>0.0</td>\n",
       "      <td>1982.0</td>\n",
       "      <td>5.0</td>\n",
       "      <td>1</td>\n",
       "    </tr>\n",
       "    <tr>\n",
       "      <th>3</th>\n",
       "      <td>3</td>\n",
       "      <td>822540</td>\n",
       "      <td>bonk  nice mcboy oos getting real tired games...</td>\n",
       "      <td>0.0</td>\n",
       "      <td>1979.0</td>\n",
       "      <td>4.0</td>\n",
       "      <td>1</td>\n",
       "    </tr>\n",
       "    <tr>\n",
       "      <th>4</th>\n",
       "      <td>4</td>\n",
       "      <td>865071</td>\n",
       "      <td>how about pizza dipped water day quarantine in...</td>\n",
       "      <td>0.0</td>\n",
       "      <td>1995.0</td>\n",
       "      <td>4.0</td>\n",
       "      <td>1</td>\n",
       "    </tr>\n",
       "    <tr>\n",
       "      <th>...</th>\n",
       "      <td>...</td>\n",
       "      <td>...</td>\n",
       "      <td>...</td>\n",
       "      <td>...</td>\n",
       "      <td>...</td>\n",
       "      <td>...</td>\n",
       "      <td>...</td>\n",
       "    </tr>\n",
       "    <tr>\n",
       "      <th>3266</th>\n",
       "      <td>3270</td>\n",
       "      <td>3196361888</td>\n",
       "      <td>back someone called hungry who back watch sock...</td>\n",
       "      <td>1.0</td>\n",
       "      <td>1995.0</td>\n",
       "      <td>1.0</td>\n",
       "      <td>1</td>\n",
       "    </tr>\n",
       "    <tr>\n",
       "      <th>3267</th>\n",
       "      <td>3272</td>\n",
       "      <td>3352812676</td>\n",
       "      <td>women guide burn fat and build muscle the holy...</td>\n",
       "      <td>1.0</td>\n",
       "      <td>1973.0</td>\n",
       "      <td>4.0</td>\n",
       "      <td>1</td>\n",
       "    </tr>\n",
       "    <tr>\n",
       "      <th>3268</th>\n",
       "      <td>3273</td>\n",
       "      <td>3924536853</td>\n",
       "      <td>even though school cancelled and grades don ma...</td>\n",
       "      <td>1.0</td>\n",
       "      <td>1993.0</td>\n",
       "      <td>4.0</td>\n",
       "      <td>1</td>\n",
       "    </tr>\n",
       "    <tr>\n",
       "      <th>3269</th>\n",
       "      <td>3274</td>\n",
       "      <td>4281628276</td>\n",
       "      <td>and what are you drunk hillary supporter women...</td>\n",
       "      <td>0.0</td>\n",
       "      <td>1987.0</td>\n",
       "      <td>4.0</td>\n",
       "      <td>1</td>\n",
       "    </tr>\n",
       "    <tr>\n",
       "      <th>3270</th>\n",
       "      <td>3275</td>\n",
       "      <td>4467793452</td>\n",
       "      <td>married    husbands ios android brasspistol ev...</td>\n",
       "      <td>1.0</td>\n",
       "      <td>1996.0</td>\n",
       "      <td>NaN</td>\n",
       "      <td>1</td>\n",
       "    </tr>\n",
       "  </tbody>\n",
       "</table>\n",
       "<p>3271 rows × 7 columns</p>\n",
       "</div>"
      ],
      "text/plain": [
       "      Unnamed: 0     user_id  \\\n",
       "0              0       12488   \n",
       "1              1      719703   \n",
       "2              2      749003   \n",
       "3              3      822540   \n",
       "4              4      865071   \n",
       "...          ...         ...   \n",
       "3266        3270  3196361888   \n",
       "3267        3272  3352812676   \n",
       "3268        3273  3924536853   \n",
       "3269        3274  4281628276   \n",
       "3270        3275  4467793452   \n",
       "\n",
       "                                             all_tweets  is_female  year_born  \\\n",
       "0     ykar futuristic sans serif font who can contac...        0.0     1980.0   \n",
       "1     other words good news about the vaccine safety...        0.0     1985.0   \n",
       "2     would fair call lil nas the first successful o...        0.0     1982.0   \n",
       "3      bonk  nice mcboy oos getting real tired games...        0.0     1979.0   \n",
       "4     how about pizza dipped water day quarantine in...        0.0     1995.0   \n",
       "...                                                 ...        ...        ...   \n",
       "3266  back someone called hungry who back watch sock...        1.0     1995.0   \n",
       "3267  women guide burn fat and build muscle the holy...        1.0     1973.0   \n",
       "3268  even though school cancelled and grades don ma...        1.0     1993.0   \n",
       "3269  and what are you drunk hillary supporter women...        0.0     1987.0   \n",
       "3270  married    husbands ios android brasspistol ev...        1.0     1996.0   \n",
       "\n",
       "      race  age  \n",
       "0      4.0    1  \n",
       "1      4.0    1  \n",
       "2      5.0    1  \n",
       "3      4.0    1  \n",
       "4      4.0    1  \n",
       "...    ...  ...  \n",
       "3266   1.0    1  \n",
       "3267   4.0    1  \n",
       "3268   4.0    1  \n",
       "3269   4.0    1  \n",
       "3270   NaN    1  \n",
       "\n",
       "[3271 rows x 7 columns]"
      ]
     },
     "execution_count": 2,
     "metadata": {},
     "output_type": "execute_result"
    }
   ],
   "source": [
    "df = pd.read_csv('./data/preprocessed_tweets_with_race&age.csv')\n",
    "df"
   ]
  },
  {
   "cell_type": "code",
   "execution_count": 3,
   "id": "385efcf6-2c57-4f55-9425-875b63384c3e",
   "metadata": {},
   "outputs": [],
   "source": [
    "## stem \n",
    "from nltk.stem import PorterStemmer\n",
    "stemmer = PorterStemmer()"
   ]
  },
  {
   "cell_type": "code",
   "execution_count": 4,
   "id": "a4153b70-eb4c-414d-a85a-57a48657a603",
   "metadata": {},
   "outputs": [],
   "source": [
    "all_stem_wrds = []\n",
    "for txt in df['all_tweets']:\n",
    "    wrds = txt.split()\n",
    "    stem_wrds = []\n",
    "    for i in wrds:\n",
    "        stem_wrds.append(stemmer.stem(i))\n",
    "    \n",
    "    str1 = ' '.join(stem_wrds)\n",
    "    all_stem_wrds.append(str1)\n",
    "\n",
    "df['stemmed_tweets'] = all_stem_wrds"
   ]
  },
  {
   "cell_type": "code",
   "execution_count": 5,
   "id": "21eebeac-6d4e-4c16-8aca-cea4b70052a5",
   "metadata": {},
   "outputs": [
    {
     "name": "stdout",
     "output_type": "stream",
     "text": [
      "ykar futurist san serif font who can contact about the veri rude and poor servic experienc dure current stay pleas and thank you like win now head bth floor check thi out thank you ye do now pleas help got scam and need help find who need talk thank you wa have fun with new friend befor the invas slider fossil you develop and you use chrome you have check out initab check out thi custom mosaic creat with the pictur mosaic onlin mosaic tool cmd middl max min diagon true cmd middl max min diagon true revers true cmd vertic true max min smooth true method uniqu use instagram for io add new featur instagram just complet the howard wolowitz achiev download just complet the idl crafter achiev download just discov the cook red meat recip download just discov the fox recip download just discov the light fur bag recip download just discov the reptil soup recip download just discov the brush recip download just discov the trowel head recip download just complet the god they kill minion you bastard achiev download just heard your song love you and want tell you excel best luck with your upcom album thank host giveaway gain twitch partnership check out her stream for info hey do your giveaway and check out your social media site and twitch just want say indianapoli also win trip new york citi and techcrunch disrupt for free enter got new ps for xma psn speed trash found solut use googl dn server amp now hour minut got mdnote window english from teach myself produc edm can you recommend good video site learn about chord and harmoni know noth thank you much for your tutori video they are incred glad they are free but you deserv someth return stuck traffic front what go love thi seri thank you both ani other good tutori the stuff you didn cover that you could point are you readi rock usernam boycedesign just post photo fuck all the hater suffer with anxieti amp depress for year feel you love all you guy and wish the best need help log out the web facebook version and log with correct account start android thank you got hook trimp also you are correct syndic wa the best game the year came out ねこあつめ steal bust topp star war card trader djsnipa peopl were not boo psx they were yell shoooee don think understood that support you patron will get previou episod just the extra episod for the month want alreadi vote with the hashtag but again kill hope you win greg greg miller should win trend gamer decemb rd how facebook steal billion view just pull thi point card pack djsnipa hatchi for io free today fan name djsnipa fan name djsnipa you find out anyth will you pleas let know thank you heard justin talk about gamescoop want know the same thing also what resourc are good for figur out how use the app effect need friend for hatchi will you add plz never buy vanilla visa card again the ladi just said they don know whi the card are get declin and call back hour current hold with them final post what they say thi problem ha been unaccept call the number numer time and say all circuit are busi would press for cust serv and get disconnect can get prescript today card declin even though have drop call got declin the pharmaci and couldn get medicin today never buy vanilla visa card back tweet with free gmail facebook and twitter backup audiomat set audiomat your phone number don work and realli need get ahold you terri you still use twitter hello will you get these g pleas sono wood tribal floral hook hanger item band thank you evernot help rememb everyth get now for month premium final fantasi all the bravest here easi play adventur with massiv battl await mir fli from san francisco phoenix pocket plane for mac love livepag thank you much for develop review the chrome web store just sign for and got free onlin storag say hello the futur mail follow for hot news and updat check out person game summari from and let see how you stack mark bale feat cosmo klein gimm some love origin mix matti menck rain origin mix\n",
      "##########\n",
      "ykar futuristic sans serif font who can contact about the very rude and poor service experiencing during current stay please and thank you like win  now heading bth floor check this out thank you yes doing now please help got scammed and need help finding who need talk thank you         was having fun with new friend before the invasion slider fossilization             you developer and you use chrome you have check out initab check out this custom mosaic created with the picture mosaics online mosaic tool cmd middle max  min  diagonal true cmd middle max  min  diagonal true reverse true cmd vertical true max min smooth true method uniqueness using instagram for ios add new features instagram just completed the howard wolowitz achievement download just completed the idle crafter achievement download just discovered the cooked red meat recipe download just discovered the fox recipe download just discovered the light fur bag recipe download just discovered the reptile soup recipe download just discovered the brush recipe download just discovered the trowel head recipe download just completed the god they killed minion you bastards achievement download  just heard your song love you and wanted tell you excellent best luck with your upcoming album thanks hosting giveaway gain twitch partnership check out her stream for info hey doing your giveaway and checking out your social media sites and twitch just wanted say indianapolis also win trip new york city and techcrunch disrupt for free enter got new ps for xmas psn speeds trash found solution use google dns servers amp now hours minutes got mdnote windows english from teaching myself produce edm can you recommend good video site learn about chords and harmony know nothing thank you much for your tutorial videos they are incredible glad they are free but you deserve something return stuck traffic front what going love this series thank you both any other good tutorials the stuff you didn cover that you could point are you ready rock username boycedesigns just posted photo    fuck all the haters suffered with anxiety amp depression for years feel you love all you guys and wish the best need help logging out the web facebook version and logging with correct account started android thanks you got hooked trimps also you are correct syndicate was the best game the year came out ねこあつめ steal bust topps star wars card trader djsnipa people were not booing psx they were yelling shoooee don think understood that  support you patron will get previous episodes just the extra episodes for the month want  already voted with the hashtag but again killing hope you win greg greg miller should win trending gamer december rd how facebook stealing billions views just pulled this  point card pack djsnipa hatchi for ios free today fan name djsnipa fan name djsnipa you find out anything will you please let know thank you heard justin talking about gamescoop wanted know the same thing also what resources are good for figuring out how use the app effectively need friends for hatchi will you add plz never buying vanilla visa card again the lady just said they don know why the cards are getting declined and call back hours currently hold with them finally post what they say this problem has been unacceptable called the number numerous times and says all circuits are busy would press for cust serv and get disconnected can get prescription today card declined even though have  dropping calls got declined the pharmacy and couldn get medicine today never buy vanilla visa card backing tweets with free gmail facebook and twitter backup audiomatic set audiomatic your phone numbers don work and really need get ahold you terri you still use twitter hello will you get these g please sono wood tribal floral hook hanger item band thank you evernote helps remember everything get now for month premium final fantasy all the bravest here easy play adventure with massive battles awaits mir flying from san francisco phoenix pocket planes for mac love livepage thank you much for developing reviewed the chrome web store just signed for and got free online storage say hello the future mail follow for hot news and updates check out personalized  gaming summary from and let see how you stack mark bale feat cosmo klein gimme some love original mix matty menck rain original mix\n"
     ]
    }
   ],
   "source": [
    "print(df['stemmed_tweets'][0])\n",
    "print('##########')\n",
    "print(df['all_tweets'][0])"
   ]
  },
  {
   "cell_type": "code",
   "execution_count": 6,
   "id": "d564c753-41ba-49d8-b20e-234d0b95e64d",
   "metadata": {},
   "outputs": [
    {
     "name": "stdout",
     "output_type": "stream",
     "text": [
      "(3271, 5000)\n"
     ]
    }
   ],
   "source": [
    "vectorizer = TfidfVectorizer(stop_words='english', max_features = 5000)\n",
    "\n",
    "X = vectorizer.fit_transform(df['stemmed_tweets'])\n",
    "print(X.shape)"
   ]
  },
  {
   "cell_type": "markdown",
   "id": "be29a23a-e89b-4921-802c-897c0f5d8e77",
   "metadata": {},
   "source": [
    "label formatting replace race code NaN with 0.0"
   ]
  },
  {
   "cell_type": "code",
   "execution_count": 7,
   "id": "e8e8f5d8-cb2a-44c1-92d9-f113909f32e4",
   "metadata": {},
   "outputs": [],
   "source": [
    "df['race'] = df['race'].replace(np.nan, 0)"
   ]
  },
  {
   "cell_type": "code",
   "execution_count": 8,
   "id": "a563e65d-1ea1-428f-8ce5-2b5998d45490",
   "metadata": {},
   "outputs": [
    {
     "data": {
      "text/plain": [
       "4.0    2534\n",
       "1.0     299\n",
       "2.0     186\n",
       "5.0     120\n",
       "3.0     102\n",
       "0.0      30\n",
       "Name: race, dtype: int64"
      ]
     },
     "execution_count": 8,
     "metadata": {},
     "output_type": "execute_result"
    }
   ],
   "source": [
    "df['race'].value_counts()"
   ]
  },
  {
   "cell_type": "markdown",
   "id": "b24ebc0d-94ba-4718-8d08-7fe76154c9c5",
   "metadata": {},
   "source": [
    "4 is white, 1 is black, and merge all other race to 0"
   ]
  },
  {
   "cell_type": "code",
   "execution_count": 9,
   "id": "414f8c42-875b-44bf-bc13-ccef79b5ae47",
   "metadata": {},
   "outputs": [
    {
     "name": "stdout",
     "output_type": "stream",
     "text": [
      "4.0    2534\n",
      "0.0     438\n",
      "1.0     299\n",
      "Name: race, dtype: int64\n"
     ]
    }
   ],
   "source": [
    "df['race'] = np.where(\n",
    "   (df['race'] != 4) & (df['race'] != 1) , 0.0, df['race']\n",
    "   )\n",
    "print(df['race'].value_counts())\n",
    "y = df['race']"
   ]
  },
  {
   "cell_type": "markdown",
   "id": "ba63acde-0f55-4936-91a9-06694e29fce0",
   "metadata": {},
   "source": [
    "### logistic regression + TFIDF vectorizor & cross validation"
   ]
  },
  {
   "cell_type": "code",
   "execution_count": 10,
   "id": "f21a17cb-33a9-4043-bad4-c9098794ff06",
   "metadata": {},
   "outputs": [],
   "source": [
    "from sklearn import metrics, preprocessing\n",
    "from sklearn.model_selection import cross_val_score\n",
    "from sklearn.linear_model import LogisticRegression\n",
    "from sklearn.pipeline import make_pipeline"
   ]
  },
  {
   "cell_type": "code",
   "execution_count": 11,
   "id": "6ec9a0bd-a00b-4e65-8742-c4905d0ed85b",
   "metadata": {},
   "outputs": [],
   "source": [
    "from sklearn.metrics import classification_report, accuracy_score, make_scorer, confusion_matrix\n",
    "\n",
    "def classification_report_with_accuracy_score(y_true, y_pred):\n",
    "    print(classification_report(y_true, y_pred)) # print classification report\n",
    "    print(confusion_matrix(y_true, y_pred, labels = [0,1,4]))\n",
    "    return accuracy_score(y_true, y_pred) # return accuracy score"
   ]
  },
  {
   "cell_type": "code",
   "execution_count": 12,
   "id": "593b2b57-e426-4340-ab9c-252c5c35f2e9",
   "metadata": {},
   "outputs": [
    {
     "name": "stdout",
     "output_type": "stream",
     "text": [
      "              precision    recall  f1-score   support\n",
      "\n",
      "         0.0       0.19      0.11      0.14        88\n",
      "         1.0       0.40      0.27      0.32        60\n",
      "         4.0       0.81      0.90      0.85       507\n",
      "\n",
      "    accuracy                           0.74       655\n",
      "   macro avg       0.47      0.43      0.44       655\n",
      "weighted avg       0.69      0.74      0.71       655\n",
      "\n",
      "[[ 10   8  70]\n",
      " [  8  16  36]\n",
      " [ 34  16 457]]\n",
      "              precision    recall  f1-score   support\n",
      "\n",
      "         0.0       0.28      0.19      0.23        88\n",
      "         1.0       0.39      0.32      0.35        59\n",
      "         4.0       0.82      0.88      0.85       507\n",
      "\n",
      "    accuracy                           0.74       654\n",
      "   macro avg       0.50      0.47      0.48       654\n",
      "weighted avg       0.71      0.74      0.72       654\n",
      "\n",
      "[[ 17   8  63]\n",
      " [  7  19  33]\n",
      " [ 37  22 448]]\n",
      "              precision    recall  f1-score   support\n",
      "\n",
      "         0.0       0.23      0.13      0.16        87\n",
      "         1.0       0.40      0.32      0.36        60\n",
      "         4.0       0.82      0.90      0.86       507\n",
      "\n",
      "    accuracy                           0.74       654\n",
      "   macro avg       0.48      0.45      0.46       654\n",
      "weighted avg       0.70      0.74      0.72       654\n",
      "\n",
      "[[ 11   8  68]\n",
      " [  6  19  35]\n",
      " [ 30  20 457]]\n",
      "              precision    recall  f1-score   support\n",
      "\n",
      "         0.0       0.27      0.15      0.19        87\n",
      "         1.0       0.44      0.35      0.39        60\n",
      "         4.0       0.82      0.90      0.86       507\n",
      "\n",
      "    accuracy                           0.75       654\n",
      "   macro avg       0.51      0.47      0.48       654\n",
      "weighted avg       0.71      0.75      0.73       654\n",
      "\n",
      "[[ 13   4  70]\n",
      " [  8  21  31]\n",
      " [ 27  23 457]]\n",
      "              precision    recall  f1-score   support\n",
      "\n",
      "         0.0       0.19      0.09      0.12        88\n",
      "         1.0       0.33      0.18      0.24        60\n",
      "         4.0       0.81      0.93      0.86       506\n",
      "\n",
      "    accuracy                           0.75       654\n",
      "   macro avg       0.44      0.40      0.41       654\n",
      "weighted avg       0.68      0.75      0.71       654\n",
      "\n",
      "[[  8  10  70]\n",
      " [  9  11  40]\n",
      " [ 25  12 469]]\n"
     ]
    }
   ],
   "source": [
    "clf = make_pipeline(preprocessing.StandardScaler(with_mean=False), LogisticRegression(max_iter=500))\n",
    "scores = cross_val_score(clf, X, y, cv=5, \\\n",
    "               scoring=make_scorer(classification_report_with_accuracy_score))"
   ]
  },
  {
   "cell_type": "code",
   "execution_count": 13,
   "id": "03008e6d-98b0-4f5c-89aa-051d9a624995",
   "metadata": {},
   "outputs": [
    {
     "data": {
      "text/plain": [
       "'1.0'"
      ]
     },
     "execution_count": 13,
     "metadata": {},
     "output_type": "execute_result"
    }
   ],
   "source": [
    "sklearn.__version__"
   ]
  },
  {
   "cell_type": "markdown",
   "id": "828c0eac-c967-434b-a560-3e42dda932b7",
   "metadata": {},
   "source": [
    "### word2vec + Logistic Regression"
   ]
  },
  {
   "cell_type": "code",
   "execution_count": 14,
   "id": "bad63e92-b9dc-4ef5-87c0-14dab175c3ec",
   "metadata": {},
   "outputs": [],
   "source": [
    "from gensim.models import Word2Vec\n",
    "from gensim.models import KeyedVectors"
   ]
  },
  {
   "cell_type": "code",
   "execution_count": 23,
   "id": "79c834e6-d76d-4c12-a5c4-fa56f4df361f",
   "metadata": {},
   "outputs": [],
   "source": [
    "model = Word2Vec(sentences=df['all_tweets'], vector_size=500, min_count=5)    \n",
    "# Store just the words + their trained embeddings.\n",
    "word_vectors = model.wv\n",
    "word_vectors.save(\"word2vec.wordvectors\")"
   ]
  },
  {
   "cell_type": "code",
   "execution_count": 24,
   "id": "55c555d1-c0cf-427f-8a1e-2e00a45d11a0",
   "metadata": {},
   "outputs": [],
   "source": [
    "# Load back with memory-mapping = read-only, shared across processes.\n",
    "wv = KeyedVectors.load(\"word2vec.wordvectors\", mmap='r')\n",
    "# print(wv['ま'])\n",
    "def document_vector(doc, wv = wv):\n",
    "    \"\"\"Create document vectors by averaging word vectors. Remove out-of-vocabulary words.\"\"\"\n",
    "    doc = [word for word in doc if word in wv.key_to_index]\n",
    "    return np.mean(wv[doc], axis=0)"
   ]
  },
  {
   "cell_type": "code",
   "execution_count": 25,
   "id": "5cadd76d-7902-4beb-851e-154e523c8eff",
   "metadata": {},
   "outputs": [],
   "source": [
    "df['doc_vector'] = df.all_tweets.apply(document_vector)"
   ]
  },
  {
   "cell_type": "code",
   "execution_count": 26,
   "id": "a267fbc0-234e-4567-bd55-dea2e2c2e62d",
   "metadata": {},
   "outputs": [],
   "source": [
    "X = list(df['doc_vector'])"
   ]
  },
  {
   "cell_type": "code",
   "execution_count": 27,
   "id": "f2c28ae4-b099-424c-952b-99099a484319",
   "metadata": {},
   "outputs": [
    {
     "name": "stderr",
     "output_type": "stream",
     "text": [
      "/Users/yuhao/anaconda3/lib/python3.7/site-packages/sklearn/metrics/_classification.py:1308: UndefinedMetricWarning: Precision and F-score are ill-defined and being set to 0.0 in labels with no predicted samples. Use `zero_division` parameter to control this behavior.\n",
      "  _warn_prf(average, modifier, msg_start, len(result))\n",
      "/Users/yuhao/anaconda3/lib/python3.7/site-packages/sklearn/metrics/_classification.py:1308: UndefinedMetricWarning: Precision and F-score are ill-defined and being set to 0.0 in labels with no predicted samples. Use `zero_division` parameter to control this behavior.\n",
      "  _warn_prf(average, modifier, msg_start, len(result))\n",
      "/Users/yuhao/anaconda3/lib/python3.7/site-packages/sklearn/metrics/_classification.py:1308: UndefinedMetricWarning: Precision and F-score are ill-defined and being set to 0.0 in labels with no predicted samples. Use `zero_division` parameter to control this behavior.\n",
      "  _warn_prf(average, modifier, msg_start, len(result))\n"
     ]
    },
    {
     "name": "stdout",
     "output_type": "stream",
     "text": [
      "              precision    recall  f1-score   support\n",
      "\n",
      "         0.0       1.00      0.01      0.02        88\n",
      "         1.0       0.00      0.00      0.00        60\n",
      "         4.0       0.78      1.00      0.87       507\n",
      "\n",
      "    accuracy                           0.78       655\n",
      "   macro avg       0.59      0.34      0.30       655\n",
      "weighted avg       0.73      0.78      0.68       655\n",
      "\n",
      "[[  1   0  87]\n",
      " [  0   0  60]\n",
      " [  0   0 507]]\n",
      "              precision    recall  f1-score   support\n",
      "\n",
      "         0.0       0.29      0.02      0.04        88\n",
      "         1.0       0.00      0.00      0.00        59\n",
      "         4.0       0.77      0.98      0.87       507\n",
      "\n",
      "    accuracy                           0.77       654\n",
      "   macro avg       0.35      0.34      0.30       654\n",
      "weighted avg       0.64      0.77      0.68       654\n",
      "\n",
      "[[  2   0  86]\n",
      " [  0   0  59]\n",
      " [  5   3 499]]\n",
      "              precision    recall  f1-score   support\n",
      "\n",
      "         0.0       0.20      0.01      0.02        87\n",
      "         1.0       0.11      0.02      0.03        60\n",
      "         4.0       0.78      0.98      0.87       507\n",
      "\n",
      "    accuracy                           0.76       654\n",
      "   macro avg       0.36      0.34      0.31       654\n",
      "weighted avg       0.64      0.76      0.68       654\n",
      "\n",
      "[[  1   1  85]\n",
      " [  1   1  58]\n",
      " [  3   7 497]]\n",
      "              precision    recall  f1-score   support\n",
      "\n",
      "         0.0       0.00      0.00      0.00        87\n",
      "         1.0       0.17      0.02      0.03        60\n",
      "         4.0       0.78      0.99      0.87       507\n",
      "\n",
      "    accuracy                           0.77       654\n",
      "   macro avg       0.32      0.34      0.30       654\n",
      "weighted avg       0.62      0.77      0.68       654\n",
      "\n",
      "[[  0   2  85]\n",
      " [  1   1  58]\n",
      " [  1   3 503]]\n",
      "              precision    recall  f1-score   support\n",
      "\n",
      "         0.0       0.33      0.01      0.02        88\n",
      "         1.0       0.00      0.00      0.00        60\n",
      "         4.0       0.77      1.00      0.87       506\n",
      "\n",
      "    accuracy                           0.77       654\n",
      "   macro avg       0.37      0.34      0.30       654\n",
      "weighted avg       0.64      0.77      0.68       654\n",
      "\n",
      "[[  1   0  87]\n",
      " [  0   0  60]\n",
      " [  2   0 504]]\n"
     ]
    },
    {
     "name": "stderr",
     "output_type": "stream",
     "text": [
      "/Users/yuhao/anaconda3/lib/python3.7/site-packages/sklearn/metrics/_classification.py:1308: UndefinedMetricWarning: Precision and F-score are ill-defined and being set to 0.0 in labels with no predicted samples. Use `zero_division` parameter to control this behavior.\n",
      "  _warn_prf(average, modifier, msg_start, len(result))\n",
      "/Users/yuhao/anaconda3/lib/python3.7/site-packages/sklearn/metrics/_classification.py:1308: UndefinedMetricWarning: Precision and F-score are ill-defined and being set to 0.0 in labels with no predicted samples. Use `zero_division` parameter to control this behavior.\n",
      "  _warn_prf(average, modifier, msg_start, len(result))\n",
      "/Users/yuhao/anaconda3/lib/python3.7/site-packages/sklearn/metrics/_classification.py:1308: UndefinedMetricWarning: Precision and F-score are ill-defined and being set to 0.0 in labels with no predicted samples. Use `zero_division` parameter to control this behavior.\n",
      "  _warn_prf(average, modifier, msg_start, len(result))\n"
     ]
    }
   ],
   "source": [
    "clf = make_pipeline(preprocessing.StandardScaler(with_mean=False), LogisticRegression(max_iter=5000))\n",
    "scores = cross_val_score(clf, X, y, cv=5, \\\n",
    "               scoring=make_scorer(classification_report_with_accuracy_score))"
   ]
  },
  {
   "cell_type": "code",
   "execution_count": null,
   "id": "23b1c450-034e-479f-bc40-9a7118917cfc",
   "metadata": {},
   "outputs": [],
   "source": []
  },
  {
   "cell_type": "code",
   "execution_count": null,
   "id": "29e8c42e-acf7-4deb-b59f-c3e9ef3f47f5",
   "metadata": {},
   "outputs": [],
   "source": []
  },
  {
   "cell_type": "code",
   "execution_count": null,
   "id": "19425d67-d911-4bc4-9e6d-922fb1feec02",
   "metadata": {},
   "outputs": [],
   "source": []
  },
  {
   "cell_type": "code",
   "execution_count": null,
   "id": "48fcf040-707c-4b25-afb1-6d87e7b7f638",
   "metadata": {},
   "outputs": [],
   "source": []
  },
  {
   "cell_type": "code",
   "execution_count": null,
   "id": "f1ab4153-9ab6-4c40-9f50-2536eaa0ccfc",
   "metadata": {},
   "outputs": [],
   "source": []
  },
  {
   "cell_type": "code",
   "execution_count": null,
   "id": "9d297b1f-466f-41a2-a339-b4c3e9665ec8",
   "metadata": {},
   "outputs": [],
   "source": []
  },
  {
   "cell_type": "code",
   "execution_count": null,
   "id": "8691617c-5a58-4334-9c3e-1cdd2e9ea5ed",
   "metadata": {},
   "outputs": [],
   "source": []
  },
  {
   "cell_type": "code",
   "execution_count": null,
   "id": "2740d01b-0851-4eaf-950a-3becf11c79b5",
   "metadata": {},
   "outputs": [],
   "source": []
  },
  {
   "cell_type": "code",
   "execution_count": null,
   "id": "f9a9aeaa-a51a-415d-ba47-d8102902efa5",
   "metadata": {},
   "outputs": [],
   "source": []
  },
  {
   "cell_type": "code",
   "execution_count": null,
   "id": "937bf78b-d0c2-4e3a-bd03-4b132228a6c1",
   "metadata": {},
   "outputs": [],
   "source": []
  },
  {
   "cell_type": "code",
   "execution_count": null,
   "id": "fc600cd2-0fcd-4ca9-bbbd-157f8f4ad3df",
   "metadata": {},
   "outputs": [],
   "source": []
  },
  {
   "cell_type": "code",
   "execution_count": null,
   "id": "166bb93c-9dc6-4e77-8b66-d597dc599f50",
   "metadata": {},
   "outputs": [],
   "source": []
  }
 ],
 "metadata": {
  "kernelspec": {
   "display_name": "Python 3 (ipykernel)",
   "language": "python",
   "name": "python3"
  },
  "language_info": {
   "codemirror_mode": {
    "name": "ipython",
    "version": 3
   },
   "file_extension": ".py",
   "mimetype": "text/x-python",
   "name": "python",
   "nbconvert_exporter": "python",
   "pygments_lexer": "ipython3",
   "version": "3.7.6"
  }
 },
 "nbformat": 4,
 "nbformat_minor": 5
}
